{
 "cells": [
  {
   "cell_type": "code",
   "execution_count": 1,
   "metadata": {},
   "outputs": [],
   "source": [
    "import warnings\n",
    "warnings.filterwarnings('ignore', category= Warning)\n",
    "import pandas as pd\n",
    "import math\n",
    "from sklearn.model_selection import train_test_split,KFold\n",
    "import numpy as np\n",
    "import os"
   ]
  },
  {
   "cell_type": "code",
   "execution_count": 2,
   "metadata": {},
   "outputs": [
    {
     "data": {
      "text/plain": [
       "'C:\\\\Users\\\\HARITHA\\\\Downloads'"
      ]
     },
     "execution_count": 2,
     "metadata": {},
     "output_type": "execute_result"
    }
   ],
   "source": [
    "os.getcwd()"
   ]
  },
  {
   "cell_type": "code",
   "execution_count": 3,
   "metadata": {},
   "outputs": [],
   "source": [
    "cf_train=pd.read_csv('counterfeit_train.csv')\n",
    "cf_test=pd.read_csv('counterfeit_test.csv')"
   ]
  },
  {
   "cell_type": "code",
   "execution_count": 4,
   "metadata": {},
   "outputs": [
    {
     "name": "stdout",
     "output_type": "stream",
     "text": [
      "<class 'pandas.core.frame.DataFrame'>\n",
      "RangeIndex: 6818 entries, 0 to 6817\n",
      "Data columns (total 12 columns):\n",
      " #   Column               Non-Null Count  Dtype  \n",
      "---  ------               --------------  -----  \n",
      " 0   Medicine_ID          6818 non-null   object \n",
      " 1   Counterfeit_Weight   5652 non-null   float64\n",
      " 2   DistArea_ID          6818 non-null   object \n",
      " 3   Active_Since         6818 non-null   int64  \n",
      " 4   Medicine_MRP         6818 non-null   float64\n",
      " 5   Medicine_Type        6818 non-null   object \n",
      " 6   SidEffect_Level      6818 non-null   object \n",
      " 7   Availability_rating  6818 non-null   float64\n",
      " 8   Area_Type            6818 non-null   object \n",
      " 9   Area_City_Type       6818 non-null   object \n",
      " 10  Area_dist_level      6818 non-null   object \n",
      " 11  Counterfeit_Sales    6818 non-null   float64\n",
      "dtypes: float64(4), int64(1), object(7)\n",
      "memory usage: 639.3+ KB\n"
     ]
    }
   ],
   "source": [
    "cf_train.info()"
   ]
  },
  {
   "cell_type": "code",
   "execution_count": 43,
   "metadata": {},
   "outputs": [
    {
     "data": {
      "text/html": [
       "<div>\n",
       "<style scoped>\n",
       "    .dataframe tbody tr th:only-of-type {\n",
       "        vertical-align: middle;\n",
       "    }\n",
       "\n",
       "    .dataframe tbody tr th {\n",
       "        vertical-align: top;\n",
       "    }\n",
       "\n",
       "    .dataframe thead th {\n",
       "        text-align: right;\n",
       "    }\n",
       "</style>\n",
       "<table border=\"1\" class=\"dataframe\">\n",
       "  <thead>\n",
       "    <tr style=\"text-align: right;\">\n",
       "      <th></th>\n",
       "      <th>Medicine_ID</th>\n",
       "      <th>Counterfeit_Weight</th>\n",
       "      <th>DistArea_ID</th>\n",
       "      <th>Active_Since</th>\n",
       "      <th>Medicine_MRP</th>\n",
       "      <th>Medicine_Type</th>\n",
       "      <th>SidEffect_Level</th>\n",
       "      <th>Availability_rating</th>\n",
       "      <th>Area_Type</th>\n",
       "      <th>Area_City_Type</th>\n",
       "      <th>Area_dist_level</th>\n",
       "      <th>Counterfeit_Sales</th>\n",
       "      <th>data</th>\n",
       "    </tr>\n",
       "  </thead>\n",
       "  <tbody>\n",
       "    <tr>\n",
       "      <th>2306</th>\n",
       "      <td>SST14</td>\n",
       "      <td>14.450</td>\n",
       "      <td>Area049</td>\n",
       "      <td>1997</td>\n",
       "      <td>153.7812</td>\n",
       "      <td>Analgesics</td>\n",
       "      <td>mild</td>\n",
       "      <td>0.069517</td>\n",
       "      <td>DownTown</td>\n",
       "      <td>Tier 1</td>\n",
       "      <td>Medium</td>\n",
       "      <td>967.8872</td>\n",
       "      <td>train</td>\n",
       "    </tr>\n",
       "    <tr>\n",
       "      <th>5679</th>\n",
       "      <td>ZWS21</td>\n",
       "      <td>8.850</td>\n",
       "      <td>Area049</td>\n",
       "      <td>1997</td>\n",
       "      <td>163.0340</td>\n",
       "      <td>Cardiac</td>\n",
       "      <td>mild</td>\n",
       "      <td>0.040212</td>\n",
       "      <td>DownTown</td>\n",
       "      <td>Tier 1</td>\n",
       "      <td>Medium</td>\n",
       "      <td>2869.4120</td>\n",
       "      <td>train</td>\n",
       "    </tr>\n",
       "    <tr>\n",
       "      <th>2016</th>\n",
       "      <td>NXQ22</td>\n",
       "      <td>18.400</td>\n",
       "      <td>Area049</td>\n",
       "      <td>1997</td>\n",
       "      <td>121.9886</td>\n",
       "      <td>Antibiotics</td>\n",
       "      <td>mild</td>\n",
       "      <td>0.141614</td>\n",
       "      <td>DownTown</td>\n",
       "      <td>Tier 1</td>\n",
       "      <td>Medium</td>\n",
       "      <td>1669.6404</td>\n",
       "      <td>train</td>\n",
       "    </tr>\n",
       "    <tr>\n",
       "      <th>3311</th>\n",
       "      <td>QBS73</td>\n",
       "      <td>13.450</td>\n",
       "      <td>Area046</td>\n",
       "      <td>1995</td>\n",
       "      <td>265.2040</td>\n",
       "      <td>MuscleRelaxants</td>\n",
       "      <td>mild</td>\n",
       "      <td>0.013000</td>\n",
       "      <td>DownTown</td>\n",
       "      <td>Tier 1</td>\n",
       "      <td>Small</td>\n",
       "      <td>4161.0640</td>\n",
       "      <td>train</td>\n",
       "    </tr>\n",
       "    <tr>\n",
       "      <th>3092</th>\n",
       "      <td>XHP14</td>\n",
       "      <td>11.495</td>\n",
       "      <td>Area035</td>\n",
       "      <td>2002</td>\n",
       "      <td>54.9428</td>\n",
       "      <td>Hreplacements</td>\n",
       "      <td>mild</td>\n",
       "      <td>0.054934</td>\n",
       "      <td>DownTown</td>\n",
       "      <td>Tier 2</td>\n",
       "      <td>Small</td>\n",
       "      <td>728.1992</td>\n",
       "      <td>train</td>\n",
       "    </tr>\n",
       "  </tbody>\n",
       "</table>\n",
       "</div>"
      ],
      "text/plain": [
       "     Medicine_ID  Counterfeit_Weight DistArea_ID  Active_Since  Medicine_MRP  \\\n",
       "2306       SST14              14.450     Area049          1997      153.7812   \n",
       "5679       ZWS21               8.850     Area049          1997      163.0340   \n",
       "2016       NXQ22              18.400     Area049          1997      121.9886   \n",
       "3311       QBS73              13.450     Area046          1995      265.2040   \n",
       "3092       XHP14              11.495     Area035          2002       54.9428   \n",
       "\n",
       "        Medicine_Type SidEffect_Level  Availability_rating Area_Type  \\\n",
       "2306       Analgesics            mild             0.069517  DownTown   \n",
       "5679          Cardiac            mild             0.040212  DownTown   \n",
       "2016      Antibiotics            mild             0.141614  DownTown   \n",
       "3311  MuscleRelaxants            mild             0.013000  DownTown   \n",
       "3092    Hreplacements            mild             0.054934  DownTown   \n",
       "\n",
       "     Area_City_Type Area_dist_level  Counterfeit_Sales   data  \n",
       "2306         Tier 1          Medium           967.8872  train  \n",
       "5679         Tier 1          Medium          2869.4120  train  \n",
       "2016         Tier 1          Medium          1669.6404  train  \n",
       "3311         Tier 1           Small          4161.0640  train  \n",
       "3092         Tier 2           Small           728.1992  train  "
      ]
     },
     "execution_count": 43,
     "metadata": {},
     "output_type": "execute_result"
    }
   ],
   "source": [
    "cf_train.sample(5)"
   ]
  },
  {
   "cell_type": "code",
   "execution_count": 5,
   "metadata": {},
   "outputs": [
    {
     "data": {
      "text/plain": [
       "Counterfeit_Weight     2.161941e+01\n",
       "Active_Since           7.003980e+01\n",
       "Medicine_MRP           3.869333e+03\n",
       "Availability_rating    2.650331e-03\n",
       "Counterfeit_Sales      2.867449e+06\n",
       "dtype: float64"
      ]
     },
     "execution_count": 5,
     "metadata": {},
     "output_type": "execute_result"
    }
   ],
   "source": [
    "cf_train.var()"
   ]
  },
  {
   "cell_type": "code",
   "execution_count": 6,
   "metadata": {},
   "outputs": [
    {
     "data": {
      "text/html": [
       "<div>\n",
       "<style scoped>\n",
       "    .dataframe tbody tr th:only-of-type {\n",
       "        vertical-align: middle;\n",
       "    }\n",
       "\n",
       "    .dataframe tbody tr th {\n",
       "        vertical-align: top;\n",
       "    }\n",
       "\n",
       "    .dataframe thead th {\n",
       "        text-align: right;\n",
       "    }\n",
       "</style>\n",
       "<table border=\"1\" class=\"dataframe\">\n",
       "  <thead>\n",
       "    <tr style=\"text-align: right;\">\n",
       "      <th></th>\n",
       "      <th>Counterfeit_Weight</th>\n",
       "      <th>Active_Since</th>\n",
       "      <th>Medicine_MRP</th>\n",
       "      <th>Availability_rating</th>\n",
       "      <th>Counterfeit_Sales</th>\n",
       "    </tr>\n",
       "  </thead>\n",
       "  <tbody>\n",
       "    <tr>\n",
       "      <th>Counterfeit_Weight</th>\n",
       "      <td>1.000000</td>\n",
       "      <td>-0.016590</td>\n",
       "      <td>0.028523</td>\n",
       "      <td>-0.017632</td>\n",
       "      <td>0.005959</td>\n",
       "    </tr>\n",
       "    <tr>\n",
       "      <th>Active_Since</th>\n",
       "      <td>-0.016590</td>\n",
       "      <td>1.000000</td>\n",
       "      <td>0.002996</td>\n",
       "      <td>-0.075744</td>\n",
       "      <td>-0.039595</td>\n",
       "    </tr>\n",
       "    <tr>\n",
       "      <th>Medicine_MRP</th>\n",
       "      <td>0.028523</td>\n",
       "      <td>0.002996</td>\n",
       "      <td>1.000000</td>\n",
       "      <td>-0.003216</td>\n",
       "      <td>0.573684</td>\n",
       "    </tr>\n",
       "    <tr>\n",
       "      <th>Availability_rating</th>\n",
       "      <td>-0.017632</td>\n",
       "      <td>-0.075744</td>\n",
       "      <td>-0.003216</td>\n",
       "      <td>1.000000</td>\n",
       "      <td>-0.124058</td>\n",
       "    </tr>\n",
       "    <tr>\n",
       "      <th>Counterfeit_Sales</th>\n",
       "      <td>0.005959</td>\n",
       "      <td>-0.039595</td>\n",
       "      <td>0.573684</td>\n",
       "      <td>-0.124058</td>\n",
       "      <td>1.000000</td>\n",
       "    </tr>\n",
       "  </tbody>\n",
       "</table>\n",
       "</div>"
      ],
      "text/plain": [
       "                     Counterfeit_Weight  Active_Since  Medicine_MRP  \\\n",
       "Counterfeit_Weight             1.000000     -0.016590      0.028523   \n",
       "Active_Since                  -0.016590      1.000000      0.002996   \n",
       "Medicine_MRP                   0.028523      0.002996      1.000000   \n",
       "Availability_rating           -0.017632     -0.075744     -0.003216   \n",
       "Counterfeit_Sales              0.005959     -0.039595      0.573684   \n",
       "\n",
       "                     Availability_rating  Counterfeit_Sales  \n",
       "Counterfeit_Weight             -0.017632           0.005959  \n",
       "Active_Since                   -0.075744          -0.039595  \n",
       "Medicine_MRP                   -0.003216           0.573684  \n",
       "Availability_rating             1.000000          -0.124058  \n",
       "Counterfeit_Sales              -0.124058           1.000000  "
      ]
     },
     "execution_count": 6,
     "metadata": {},
     "output_type": "execute_result"
    }
   ],
   "source": [
    "cf_train.corr()"
   ]
  },
  {
   "cell_type": "code",
   "execution_count": 7,
   "metadata": {},
   "outputs": [
    {
     "name": "stdout",
     "output_type": "stream",
     "text": [
      "<class 'pandas.core.frame.DataFrame'>\n",
      "RangeIndex: 1705 entries, 0 to 1704\n",
      "Data columns (total 11 columns):\n",
      " #   Column               Non-Null Count  Dtype  \n",
      "---  ------               --------------  -----  \n",
      " 0   Medicine_ID          1705 non-null   object \n",
      " 1   Counterfeit_Weight   1408 non-null   float64\n",
      " 2   DistArea_ID          1705 non-null   object \n",
      " 3   Active_Since         1705 non-null   int64  \n",
      " 4   Medicine_MRP         1705 non-null   float64\n",
      " 5   Medicine_Type        1705 non-null   object \n",
      " 6   SidEffect_Level      1705 non-null   object \n",
      " 7   Availability_rating  1705 non-null   float64\n",
      " 8   Area_Type            1705 non-null   object \n",
      " 9   Area_City_Type       1705 non-null   object \n",
      " 10  Area_dist_level      1705 non-null   object \n",
      "dtypes: float64(3), int64(1), object(7)\n",
      "memory usage: 146.6+ KB\n"
     ]
    }
   ],
   "source": [
    "cf_test.info()"
   ]
  },
  {
   "cell_type": "code",
   "execution_count": 8,
   "metadata": {},
   "outputs": [],
   "source": [
    "cf_test['Counterfeit_Sales']=np.nan "
   ]
  },
  {
   "cell_type": "code",
   "execution_count": 9,
   "metadata": {},
   "outputs": [
    {
     "data": {
      "text/html": [
       "<div>\n",
       "<style scoped>\n",
       "    .dataframe tbody tr th:only-of-type {\n",
       "        vertical-align: middle;\n",
       "    }\n",
       "\n",
       "    .dataframe tbody tr th {\n",
       "        vertical-align: top;\n",
       "    }\n",
       "\n",
       "    .dataframe thead th {\n",
       "        text-align: right;\n",
       "    }\n",
       "</style>\n",
       "<table border=\"1\" class=\"dataframe\">\n",
       "  <thead>\n",
       "    <tr style=\"text-align: right;\">\n",
       "      <th></th>\n",
       "      <th>Medicine_ID</th>\n",
       "      <th>Counterfeit_Weight</th>\n",
       "      <th>DistArea_ID</th>\n",
       "      <th>Active_Since</th>\n",
       "      <th>Medicine_MRP</th>\n",
       "      <th>Medicine_Type</th>\n",
       "      <th>SidEffect_Level</th>\n",
       "      <th>Availability_rating</th>\n",
       "      <th>Area_Type</th>\n",
       "      <th>Area_City_Type</th>\n",
       "      <th>Area_dist_level</th>\n",
       "      <th>Counterfeit_Sales</th>\n",
       "    </tr>\n",
       "  </thead>\n",
       "  <tbody>\n",
       "    <tr>\n",
       "      <th>0</th>\n",
       "      <td>RRA15</td>\n",
       "      <td>13.100</td>\n",
       "      <td>Area046</td>\n",
       "      <td>1995</td>\n",
       "      <td>160.2366</td>\n",
       "      <td>Antimalarial</td>\n",
       "      <td>critical</td>\n",
       "      <td>0.070422</td>\n",
       "      <td>DownTown</td>\n",
       "      <td>Tier 1</td>\n",
       "      <td>Small</td>\n",
       "      <td>1775.5026</td>\n",
       "    </tr>\n",
       "    <tr>\n",
       "      <th>1</th>\n",
       "      <td>YVV26</td>\n",
       "      <td>NaN</td>\n",
       "      <td>Area027</td>\n",
       "      <td>1983</td>\n",
       "      <td>110.4384</td>\n",
       "      <td>Mstablizers</td>\n",
       "      <td>mild</td>\n",
       "      <td>0.013000</td>\n",
       "      <td>CityLimits</td>\n",
       "      <td>Tier 3</td>\n",
       "      <td>Medium</td>\n",
       "      <td>3069.1520</td>\n",
       "    </tr>\n",
       "    <tr>\n",
       "      <th>2</th>\n",
       "      <td>LJC15</td>\n",
       "      <td>9.025</td>\n",
       "      <td>Area046</td>\n",
       "      <td>1995</td>\n",
       "      <td>259.4092</td>\n",
       "      <td>Cardiac</td>\n",
       "      <td>mild</td>\n",
       "      <td>0.060783</td>\n",
       "      <td>DownTown</td>\n",
       "      <td>Tier 1</td>\n",
       "      <td>Small</td>\n",
       "      <td>2603.0920</td>\n",
       "    </tr>\n",
       "    <tr>\n",
       "      <th>3</th>\n",
       "      <td>GWC40</td>\n",
       "      <td>11.800</td>\n",
       "      <td>Area046</td>\n",
       "      <td>1995</td>\n",
       "      <td>99.9830</td>\n",
       "      <td>OralContraceptives</td>\n",
       "      <td>mild</td>\n",
       "      <td>0.065555</td>\n",
       "      <td>DownTown</td>\n",
       "      <td>Tier 1</td>\n",
       "      <td>Small</td>\n",
       "      <td>1101.7130</td>\n",
       "    </tr>\n",
       "    <tr>\n",
       "      <th>4</th>\n",
       "      <td>QMN13</td>\n",
       "      <td>NaN</td>\n",
       "      <td>Area019</td>\n",
       "      <td>1983</td>\n",
       "      <td>56.4402</td>\n",
       "      <td>Hreplacements</td>\n",
       "      <td>critical</td>\n",
       "      <td>0.248859</td>\n",
       "      <td>MidTownResidential</td>\n",
       "      <td>Tier 1</td>\n",
       "      <td>Small</td>\n",
       "      <td>158.9402</td>\n",
       "    </tr>\n",
       "  </tbody>\n",
       "</table>\n",
       "</div>"
      ],
      "text/plain": [
       "  Medicine_ID  Counterfeit_Weight DistArea_ID  Active_Since  Medicine_MRP  \\\n",
       "0       RRA15              13.100     Area046          1995      160.2366   \n",
       "1       YVV26                 NaN     Area027          1983      110.4384   \n",
       "2       LJC15               9.025     Area046          1995      259.4092   \n",
       "3       GWC40              11.800     Area046          1995       99.9830   \n",
       "4       QMN13                 NaN     Area019          1983       56.4402   \n",
       "\n",
       "        Medicine_Type SidEffect_Level  Availability_rating  \\\n",
       "0        Antimalarial        critical             0.070422   \n",
       "1         Mstablizers            mild             0.013000   \n",
       "2             Cardiac            mild             0.060783   \n",
       "3  OralContraceptives            mild             0.065555   \n",
       "4       Hreplacements        critical             0.248859   \n",
       "\n",
       "            Area_Type Area_City_Type Area_dist_level  Counterfeit_Sales  \n",
       "0            DownTown         Tier 1           Small          1775.5026  \n",
       "1          CityLimits         Tier 3          Medium          3069.1520  \n",
       "2            DownTown         Tier 1           Small          2603.0920  \n",
       "3            DownTown         Tier 1           Small          1101.7130  \n",
       "4  MidTownResidential         Tier 1           Small           158.9402  "
      ]
     },
     "execution_count": 9,
     "metadata": {},
     "output_type": "execute_result"
    }
   ],
   "source": [
    "cf_train.head()"
   ]
  },
  {
   "cell_type": "code",
   "execution_count": 10,
   "metadata": {},
   "outputs": [
    {
     "data": {
      "text/html": [
       "<div>\n",
       "<style scoped>\n",
       "    .dataframe tbody tr th:only-of-type {\n",
       "        vertical-align: middle;\n",
       "    }\n",
       "\n",
       "    .dataframe tbody tr th {\n",
       "        vertical-align: top;\n",
       "    }\n",
       "\n",
       "    .dataframe thead th {\n",
       "        text-align: right;\n",
       "    }\n",
       "</style>\n",
       "<table border=\"1\" class=\"dataframe\">\n",
       "  <thead>\n",
       "    <tr style=\"text-align: right;\">\n",
       "      <th></th>\n",
       "      <th>Medicine_ID</th>\n",
       "      <th>Counterfeit_Weight</th>\n",
       "      <th>DistArea_ID</th>\n",
       "      <th>Active_Since</th>\n",
       "      <th>Medicine_MRP</th>\n",
       "      <th>Medicine_Type</th>\n",
       "      <th>SidEffect_Level</th>\n",
       "      <th>Availability_rating</th>\n",
       "      <th>Area_Type</th>\n",
       "      <th>Area_City_Type</th>\n",
       "      <th>Area_dist_level</th>\n",
       "      <th>Counterfeit_Sales</th>\n",
       "    </tr>\n",
       "  </thead>\n",
       "  <tbody>\n",
       "    <tr>\n",
       "      <th>0</th>\n",
       "      <td>HLZ81</td>\n",
       "      <td>NaN</td>\n",
       "      <td>Area027</td>\n",
       "      <td>1983</td>\n",
       "      <td>85.5328</td>\n",
       "      <td>Antibiotics</td>\n",
       "      <td>mild</td>\n",
       "      <td>0.112747</td>\n",
       "      <td>CityLimits</td>\n",
       "      <td>Tier 3</td>\n",
       "      <td>Medium</td>\n",
       "      <td>NaN</td>\n",
       "    </tr>\n",
       "    <tr>\n",
       "      <th>1</th>\n",
       "      <td>ECE94</td>\n",
       "      <td>13.45</td>\n",
       "      <td>Area045</td>\n",
       "      <td>2000</td>\n",
       "      <td>257.1460</td>\n",
       "      <td>OralContraceptives</td>\n",
       "      <td>mild</td>\n",
       "      <td>0.144446</td>\n",
       "      <td>DownTown</td>\n",
       "      <td>Tier 2</td>\n",
       "      <td>Unknown</td>\n",
       "      <td>NaN</td>\n",
       "    </tr>\n",
       "    <tr>\n",
       "      <th>2</th>\n",
       "      <td>SAD14</td>\n",
       "      <td>7.10</td>\n",
       "      <td>Area045</td>\n",
       "      <td>2000</td>\n",
       "      <td>98.1172</td>\n",
       "      <td>Antipyretics</td>\n",
       "      <td>mild</td>\n",
       "      <td>0.144221</td>\n",
       "      <td>DownTown</td>\n",
       "      <td>Tier 2</td>\n",
       "      <td>Unknown</td>\n",
       "      <td>NaN</td>\n",
       "    </tr>\n",
       "    <tr>\n",
       "      <th>3</th>\n",
       "      <td>EQV63</td>\n",
       "      <td>18.30</td>\n",
       "      <td>Area010</td>\n",
       "      <td>1996</td>\n",
       "      <td>135.3730</td>\n",
       "      <td>Tranquilizers</td>\n",
       "      <td>mild</td>\n",
       "      <td>0.100388</td>\n",
       "      <td>MidTownResidential</td>\n",
       "      <td>Tier 3</td>\n",
       "      <td>Unknown</td>\n",
       "      <td>NaN</td>\n",
       "    </tr>\n",
       "    <tr>\n",
       "      <th>4</th>\n",
       "      <td>AIR10</td>\n",
       "      <td>NaN</td>\n",
       "      <td>Area019</td>\n",
       "      <td>1983</td>\n",
       "      <td>112.8016</td>\n",
       "      <td>OralContraceptives</td>\n",
       "      <td>mild</td>\n",
       "      <td>0.022585</td>\n",
       "      <td>MidTownResidential</td>\n",
       "      <td>Tier 1</td>\n",
       "      <td>Small</td>\n",
       "      <td>NaN</td>\n",
       "    </tr>\n",
       "  </tbody>\n",
       "</table>\n",
       "</div>"
      ],
      "text/plain": [
       "  Medicine_ID  Counterfeit_Weight DistArea_ID  Active_Since  Medicine_MRP  \\\n",
       "0       HLZ81                 NaN     Area027          1983       85.5328   \n",
       "1       ECE94               13.45     Area045          2000      257.1460   \n",
       "2       SAD14                7.10     Area045          2000       98.1172   \n",
       "3       EQV63               18.30     Area010          1996      135.3730   \n",
       "4       AIR10                 NaN     Area019          1983      112.8016   \n",
       "\n",
       "        Medicine_Type SidEffect_Level  Availability_rating  \\\n",
       "0         Antibiotics            mild             0.112747   \n",
       "1  OralContraceptives            mild             0.144446   \n",
       "2        Antipyretics            mild             0.144221   \n",
       "3       Tranquilizers            mild             0.100388   \n",
       "4  OralContraceptives            mild             0.022585   \n",
       "\n",
       "            Area_Type Area_City_Type Area_dist_level  Counterfeit_Sales  \n",
       "0          CityLimits         Tier 3          Medium                NaN  \n",
       "1            DownTown         Tier 2         Unknown                NaN  \n",
       "2            DownTown         Tier 2         Unknown                NaN  \n",
       "3  MidTownResidential         Tier 3         Unknown                NaN  \n",
       "4  MidTownResidential         Tier 1           Small                NaN  "
      ]
     },
     "execution_count": 10,
     "metadata": {},
     "output_type": "execute_result"
    }
   ],
   "source": [
    "cf_test.head()"
   ]
  },
  {
   "cell_type": "code",
   "execution_count": 11,
   "metadata": {},
   "outputs": [
    {
     "data": {
      "text/plain": [
       "Medicine_ID               0\n",
       "Counterfeit_Weight     1166\n",
       "DistArea_ID               0\n",
       "Active_Since              0\n",
       "Medicine_MRP              0\n",
       "Medicine_Type             0\n",
       "SidEffect_Level           0\n",
       "Availability_rating       0\n",
       "Area_Type                 0\n",
       "Area_City_Type            0\n",
       "Area_dist_level           0\n",
       "Counterfeit_Sales         0\n",
       "dtype: int64"
      ]
     },
     "execution_count": 11,
     "metadata": {},
     "output_type": "execute_result"
    }
   ],
   "source": [
    "cf_train.isnull().sum()"
   ]
  },
  {
   "cell_type": "code",
   "execution_count": 12,
   "metadata": {},
   "outputs": [
    {
     "data": {
      "text/plain": [
       "Medicine_ID               0\n",
       "Counterfeit_Weight      297\n",
       "DistArea_ID               0\n",
       "Active_Since              0\n",
       "Medicine_MRP              0\n",
       "Medicine_Type             0\n",
       "SidEffect_Level           0\n",
       "Availability_rating       0\n",
       "Area_Type                 0\n",
       "Area_City_Type            0\n",
       "Area_dist_level           0\n",
       "Counterfeit_Sales      1705\n",
       "dtype: int64"
      ]
     },
     "execution_count": 12,
     "metadata": {},
     "output_type": "execute_result"
    }
   ],
   "source": [
    "cf_test.isnull().sum()"
   ]
  },
  {
   "cell_type": "code",
   "execution_count": 13,
   "metadata": {},
   "outputs": [],
   "source": [
    "cf_train['data']='train'\n",
    "cf_test['data']='test'"
   ]
  },
  {
   "cell_type": "markdown",
   "metadata": {},
   "source": [
    "# Combining Train and test files"
   ]
  },
  {
   "cell_type": "code",
   "execution_count": 14,
   "metadata": {},
   "outputs": [],
   "source": [
    "cf_all=pd.concat([cf_train,cf_test],axis=0)"
   ]
  },
  {
   "cell_type": "code",
   "execution_count": 15,
   "metadata": {},
   "outputs": [
    {
     "data": {
      "text/html": [
       "<div>\n",
       "<style scoped>\n",
       "    .dataframe tbody tr th:only-of-type {\n",
       "        vertical-align: middle;\n",
       "    }\n",
       "\n",
       "    .dataframe tbody tr th {\n",
       "        vertical-align: top;\n",
       "    }\n",
       "\n",
       "    .dataframe thead th {\n",
       "        text-align: right;\n",
       "    }\n",
       "</style>\n",
       "<table border=\"1\" class=\"dataframe\">\n",
       "  <thead>\n",
       "    <tr style=\"text-align: right;\">\n",
       "      <th></th>\n",
       "      <th>Medicine_ID</th>\n",
       "      <th>Counterfeit_Weight</th>\n",
       "      <th>DistArea_ID</th>\n",
       "      <th>Active_Since</th>\n",
       "      <th>Medicine_MRP</th>\n",
       "      <th>Medicine_Type</th>\n",
       "      <th>SidEffect_Level</th>\n",
       "      <th>Availability_rating</th>\n",
       "      <th>Area_Type</th>\n",
       "      <th>Area_City_Type</th>\n",
       "      <th>Area_dist_level</th>\n",
       "      <th>Counterfeit_Sales</th>\n",
       "      <th>data</th>\n",
       "    </tr>\n",
       "  </thead>\n",
       "  <tbody>\n",
       "    <tr>\n",
       "      <th>0</th>\n",
       "      <td>RRA15</td>\n",
       "      <td>13.100</td>\n",
       "      <td>Area046</td>\n",
       "      <td>1995</td>\n",
       "      <td>160.2366</td>\n",
       "      <td>Antimalarial</td>\n",
       "      <td>critical</td>\n",
       "      <td>0.070422</td>\n",
       "      <td>DownTown</td>\n",
       "      <td>Tier 1</td>\n",
       "      <td>Small</td>\n",
       "      <td>1775.5026</td>\n",
       "      <td>train</td>\n",
       "    </tr>\n",
       "    <tr>\n",
       "      <th>1</th>\n",
       "      <td>YVV26</td>\n",
       "      <td>NaN</td>\n",
       "      <td>Area027</td>\n",
       "      <td>1983</td>\n",
       "      <td>110.4384</td>\n",
       "      <td>Mstablizers</td>\n",
       "      <td>mild</td>\n",
       "      <td>0.013000</td>\n",
       "      <td>CityLimits</td>\n",
       "      <td>Tier 3</td>\n",
       "      <td>Medium</td>\n",
       "      <td>3069.1520</td>\n",
       "      <td>train</td>\n",
       "    </tr>\n",
       "    <tr>\n",
       "      <th>2</th>\n",
       "      <td>LJC15</td>\n",
       "      <td>9.025</td>\n",
       "      <td>Area046</td>\n",
       "      <td>1995</td>\n",
       "      <td>259.4092</td>\n",
       "      <td>Cardiac</td>\n",
       "      <td>mild</td>\n",
       "      <td>0.060783</td>\n",
       "      <td>DownTown</td>\n",
       "      <td>Tier 1</td>\n",
       "      <td>Small</td>\n",
       "      <td>2603.0920</td>\n",
       "      <td>train</td>\n",
       "    </tr>\n",
       "    <tr>\n",
       "      <th>3</th>\n",
       "      <td>GWC40</td>\n",
       "      <td>11.800</td>\n",
       "      <td>Area046</td>\n",
       "      <td>1995</td>\n",
       "      <td>99.9830</td>\n",
       "      <td>OralContraceptives</td>\n",
       "      <td>mild</td>\n",
       "      <td>0.065555</td>\n",
       "      <td>DownTown</td>\n",
       "      <td>Tier 1</td>\n",
       "      <td>Small</td>\n",
       "      <td>1101.7130</td>\n",
       "      <td>train</td>\n",
       "    </tr>\n",
       "    <tr>\n",
       "      <th>4</th>\n",
       "      <td>QMN13</td>\n",
       "      <td>NaN</td>\n",
       "      <td>Area019</td>\n",
       "      <td>1983</td>\n",
       "      <td>56.4402</td>\n",
       "      <td>Hreplacements</td>\n",
       "      <td>critical</td>\n",
       "      <td>0.248859</td>\n",
       "      <td>MidTownResidential</td>\n",
       "      <td>Tier 1</td>\n",
       "      <td>Small</td>\n",
       "      <td>158.9402</td>\n",
       "      <td>train</td>\n",
       "    </tr>\n",
       "    <tr>\n",
       "      <th>...</th>\n",
       "      <td>...</td>\n",
       "      <td>...</td>\n",
       "      <td>...</td>\n",
       "      <td>...</td>\n",
       "      <td>...</td>\n",
       "      <td>...</td>\n",
       "      <td>...</td>\n",
       "      <td>...</td>\n",
       "      <td>...</td>\n",
       "      <td>...</td>\n",
       "      <td>...</td>\n",
       "      <td>...</td>\n",
       "      <td>...</td>\n",
       "    </tr>\n",
       "    <tr>\n",
       "      <th>1700</th>\n",
       "      <td>KXW10</td>\n",
       "      <td>NaN</td>\n",
       "      <td>Area027</td>\n",
       "      <td>1983</td>\n",
       "      <td>136.5704</td>\n",
       "      <td>Hreplacements</td>\n",
       "      <td>mild</td>\n",
       "      <td>0.050505</td>\n",
       "      <td>CityLimits</td>\n",
       "      <td>Tier 3</td>\n",
       "      <td>Medium</td>\n",
       "      <td>NaN</td>\n",
       "      <td>test</td>\n",
       "    </tr>\n",
       "    <tr>\n",
       "      <th>1701</th>\n",
       "      <td>CKE54</td>\n",
       "      <td>21.300</td>\n",
       "      <td>Area035</td>\n",
       "      <td>2002</td>\n",
       "      <td>57.0744</td>\n",
       "      <td>Antibiotics</td>\n",
       "      <td>critical</td>\n",
       "      <td>0.041118</td>\n",
       "      <td>DownTown</td>\n",
       "      <td>Tier 2</td>\n",
       "      <td>Small</td>\n",
       "      <td>NaN</td>\n",
       "      <td>test</td>\n",
       "    </tr>\n",
       "    <tr>\n",
       "      <th>1702</th>\n",
       "      <td>HAY13</td>\n",
       "      <td>20.400</td>\n",
       "      <td>Area017</td>\n",
       "      <td>2005</td>\n",
       "      <td>182.7422</td>\n",
       "      <td>Antiseptics</td>\n",
       "      <td>mild</td>\n",
       "      <td>0.191273</td>\n",
       "      <td>DownTown</td>\n",
       "      <td>Tier 2</td>\n",
       "      <td>Unknown</td>\n",
       "      <td>NaN</td>\n",
       "      <td>test</td>\n",
       "    </tr>\n",
       "    <tr>\n",
       "      <th>1703</th>\n",
       "      <td>ZEE32</td>\n",
       "      <td>20.000</td>\n",
       "      <td>Area018</td>\n",
       "      <td>2007</td>\n",
       "      <td>266.9672</td>\n",
       "      <td>Hreplacements</td>\n",
       "      <td>mild</td>\n",
       "      <td>0.013000</td>\n",
       "      <td>Industrial</td>\n",
       "      <td>Tier 3</td>\n",
       "      <td>Medium</td>\n",
       "      <td>NaN</td>\n",
       "      <td>test</td>\n",
       "    </tr>\n",
       "    <tr>\n",
       "      <th>1704</th>\n",
       "      <td>NDL93</td>\n",
       "      <td>8.080</td>\n",
       "      <td>Area045</td>\n",
       "      <td>2000</td>\n",
       "      <td>238.7694</td>\n",
       "      <td>Antibiotics</td>\n",
       "      <td>critical</td>\n",
       "      <td>0.098982</td>\n",
       "      <td>DownTown</td>\n",
       "      <td>Tier 2</td>\n",
       "      <td>Unknown</td>\n",
       "      <td>NaN</td>\n",
       "      <td>test</td>\n",
       "    </tr>\n",
       "  </tbody>\n",
       "</table>\n",
       "<p>8523 rows × 13 columns</p>\n",
       "</div>"
      ],
      "text/plain": [
       "     Medicine_ID  Counterfeit_Weight DistArea_ID  Active_Since  Medicine_MRP  \\\n",
       "0          RRA15              13.100     Area046          1995      160.2366   \n",
       "1          YVV26                 NaN     Area027          1983      110.4384   \n",
       "2          LJC15               9.025     Area046          1995      259.4092   \n",
       "3          GWC40              11.800     Area046          1995       99.9830   \n",
       "4          QMN13                 NaN     Area019          1983       56.4402   \n",
       "...          ...                 ...         ...           ...           ...   \n",
       "1700       KXW10                 NaN     Area027          1983      136.5704   \n",
       "1701       CKE54              21.300     Area035          2002       57.0744   \n",
       "1702       HAY13              20.400     Area017          2005      182.7422   \n",
       "1703       ZEE32              20.000     Area018          2007      266.9672   \n",
       "1704       NDL93               8.080     Area045          2000      238.7694   \n",
       "\n",
       "           Medicine_Type SidEffect_Level  Availability_rating  \\\n",
       "0           Antimalarial        critical             0.070422   \n",
       "1            Mstablizers            mild             0.013000   \n",
       "2                Cardiac            mild             0.060783   \n",
       "3     OralContraceptives            mild             0.065555   \n",
       "4          Hreplacements        critical             0.248859   \n",
       "...                  ...             ...                  ...   \n",
       "1700       Hreplacements            mild             0.050505   \n",
       "1701         Antibiotics        critical             0.041118   \n",
       "1702         Antiseptics            mild             0.191273   \n",
       "1703       Hreplacements            mild             0.013000   \n",
       "1704         Antibiotics        critical             0.098982   \n",
       "\n",
       "               Area_Type Area_City_Type Area_dist_level  Counterfeit_Sales  \\\n",
       "0               DownTown         Tier 1           Small          1775.5026   \n",
       "1             CityLimits         Tier 3          Medium          3069.1520   \n",
       "2               DownTown         Tier 1           Small          2603.0920   \n",
       "3               DownTown         Tier 1           Small          1101.7130   \n",
       "4     MidTownResidential         Tier 1           Small           158.9402   \n",
       "...                  ...            ...             ...                ...   \n",
       "1700          CityLimits         Tier 3          Medium                NaN   \n",
       "1701            DownTown         Tier 2           Small                NaN   \n",
       "1702            DownTown         Tier 2         Unknown                NaN   \n",
       "1703          Industrial         Tier 3          Medium                NaN   \n",
       "1704            DownTown         Tier 2         Unknown                NaN   \n",
       "\n",
       "       data  \n",
       "0     train  \n",
       "1     train  \n",
       "2     train  \n",
       "3     train  \n",
       "4     train  \n",
       "...     ...  \n",
       "1700   test  \n",
       "1701   test  \n",
       "1702   test  \n",
       "1703   test  \n",
       "1704   test  \n",
       "\n",
       "[8523 rows x 13 columns]"
      ]
     },
     "execution_count": 15,
     "metadata": {},
     "output_type": "execute_result"
    }
   ],
   "source": [
    "cf_all"
   ]
  },
  {
   "cell_type": "code",
   "execution_count": 16,
   "metadata": {},
   "outputs": [
    {
     "name": "stdout",
     "output_type": "stream",
     "text": [
      "<class 'pandas.core.frame.DataFrame'>\n",
      "Int64Index: 8523 entries, 0 to 1704\n",
      "Data columns (total 13 columns):\n",
      " #   Column               Non-Null Count  Dtype  \n",
      "---  ------               --------------  -----  \n",
      " 0   Medicine_ID          8523 non-null   object \n",
      " 1   Counterfeit_Weight   7060 non-null   float64\n",
      " 2   DistArea_ID          8523 non-null   object \n",
      " 3   Active_Since         8523 non-null   int64  \n",
      " 4   Medicine_MRP         8523 non-null   float64\n",
      " 5   Medicine_Type        8523 non-null   object \n",
      " 6   SidEffect_Level      8523 non-null   object \n",
      " 7   Availability_rating  8523 non-null   float64\n",
      " 8   Area_Type            8523 non-null   object \n",
      " 9   Area_City_Type       8523 non-null   object \n",
      " 10  Area_dist_level      8523 non-null   object \n",
      " 11  Counterfeit_Sales    6818 non-null   float64\n",
      " 12  data                 8523 non-null   object \n",
      "dtypes: float64(4), int64(1), object(8)\n",
      "memory usage: 932.2+ KB\n"
     ]
    }
   ],
   "source": [
    "cf_all.info()"
   ]
  },
  {
   "cell_type": "code",
   "execution_count": 17,
   "metadata": {},
   "outputs": [
    {
     "data": {
      "text/plain": [
       "train    6818\n",
       "test     1705\n",
       "Name: data, dtype: int64"
      ]
     },
     "execution_count": 17,
     "metadata": {},
     "output_type": "execute_result"
    }
   ],
   "source": [
    "cf_all['data'].value_counts()"
   ]
  },
  {
   "cell_type": "code",
   "execution_count": 18,
   "metadata": {},
   "outputs": [
    {
     "data": {
      "text/plain": [
       "Medicine_ID               0\n",
       "Counterfeit_Weight     1463\n",
       "DistArea_ID               0\n",
       "Active_Since              0\n",
       "Medicine_MRP              0\n",
       "Medicine_Type             0\n",
       "SidEffect_Level           0\n",
       "Availability_rating       0\n",
       "Area_Type                 0\n",
       "Area_City_Type            0\n",
       "Area_dist_level           0\n",
       "Counterfeit_Sales      1705\n",
       "data                      0\n",
       "dtype: int64"
      ]
     },
     "execution_count": 18,
     "metadata": {},
     "output_type": "execute_result"
    }
   ],
   "source": [
    "cf_all.isnull().sum()"
   ]
  },
  {
   "cell_type": "code",
   "execution_count": null,
   "metadata": {},
   "outputs": [],
   "source": [
    "# Creating one hot encoding and dummy variable"
   ]
  },
  {
   "cell_type": "code",
   "execution_count": 19,
   "metadata": {},
   "outputs": [],
   "source": [
    "#extracting object columns\n",
    "category_columns=cf_all.select_dtypes('object').columns"
   ]
  },
  {
   "cell_type": "code",
   "execution_count": 21,
   "metadata": {},
   "outputs": [],
   "source": [
    "category_columns=category_columns.drop('data')"
   ]
  },
  {
   "cell_type": "code",
   "execution_count": 22,
   "metadata": {},
   "outputs": [
    {
     "data": {
      "text/plain": [
       "Index(['Medicine_ID', 'DistArea_ID', 'Medicine_Type', 'SidEffect_Level',\n",
       "       'Area_Type', 'Area_City_Type', 'Area_dist_level'],\n",
       "      dtype='object')"
      ]
     },
     "execution_count": 22,
     "metadata": {},
     "output_type": "execute_result"
    }
   ],
   "source": [
    "category_columns"
   ]
  },
  {
   "cell_type": "code",
   "execution_count": 23,
   "metadata": {},
   "outputs": [
    {
     "data": {
      "text/plain": [
       "Area027    935\n",
       "Area013    932\n",
       "Area035    930\n",
       "Area049    930\n",
       "Area046    930\n",
       "Area045    929\n",
       "Area018    928\n",
       "Area017    926\n",
       "Area010    555\n",
       "Area019    528\n",
       "Name: DistArea_ID, dtype: int64"
      ]
     },
     "execution_count": 23,
     "metadata": {},
     "output_type": "execute_result"
    }
   ],
   "source": [
    "cf_all['DistArea_ID'].value_counts()"
   ]
  },
  {
   "cell_type": "code",
   "execution_count": 24,
   "metadata": {},
   "outputs": [
    {
     "data": {
      "text/plain": [
       "Antibiotics           1232\n",
       "Hreplacements         1200\n",
       "Antiseptics            910\n",
       "OralContraceptives     856\n",
       "Antipyretics           682\n",
       "Cardiac                649\n",
       "Mstablizers            648\n",
       "Tranquilizers          520\n",
       "Analgesics             445\n",
       "Antimalarial           425\n",
       "Antacids               251\n",
       "Statins                214\n",
       "MuscleRelaxants        169\n",
       "Antifungal             148\n",
       "Stimulants             110\n",
       "Antiviral               64\n",
       "Name: Medicine_Type, dtype: int64"
      ]
     },
     "execution_count": 24,
     "metadata": {},
     "output_type": "execute_result"
    }
   ],
   "source": [
    "cf_all['Medicine_Type'].value_counts()"
   ]
  },
  {
   "cell_type": "code",
   "execution_count": 25,
   "metadata": {},
   "outputs": [
    {
     "name": "stdout",
     "output_type": "stream",
     "text": [
      "Medicine_ID : SGZ11    12\n",
      "KIS14    10\n",
      "ORS21    10\n",
      "GVZ23    10\n",
      "QLK14     9\n",
      "         ..\n",
      "QGU83     1\n",
      "YDD11     1\n",
      "BIY14     1\n",
      "ETU15     1\n",
      "JPY13     1\n",
      "Name: Medicine_ID, Length: 1557, dtype: int64\n",
      "DistArea_ID : Area027    935\n",
      "Area013    932\n",
      "Area035    930\n",
      "Area049    930\n",
      "Area046    930\n",
      "Area045    929\n",
      "Area018    928\n",
      "Area017    926\n",
      "Area010    555\n",
      "Area019    528\n",
      "Name: DistArea_ID, dtype: int64\n",
      "Medicine_Type : Antibiotics           1232\n",
      "Hreplacements         1200\n",
      "Antiseptics            910\n",
      "OralContraceptives     856\n",
      "Antipyretics           682\n",
      "Cardiac                649\n",
      "Mstablizers            648\n",
      "Tranquilizers          520\n",
      "Analgesics             445\n",
      "Antimalarial           425\n",
      "Antacids               251\n",
      "Statins                214\n",
      "MuscleRelaxants        169\n",
      "Antifungal             148\n",
      "Stimulants             110\n",
      "Antiviral               64\n",
      "Name: Medicine_Type, dtype: int64\n",
      "SidEffect_Level : mild        5517\n",
      "critical    3006\n",
      "Name: SidEffect_Level, dtype: int64\n",
      "Area_Type : DownTown              5577\n",
      "MidTownResidential    1083\n",
      "CityLimits             935\n",
      "Industrial             928\n",
      "Name: Area_Type, dtype: int64\n",
      "Area_City_Type : Tier 3    3350\n",
      "Tier 2    2785\n",
      "Tier 1    2388\n",
      "Name: Area_City_Type, dtype: int64\n",
      "Area_dist_level : Medium     2793\n",
      "Unknown    2410\n",
      "Small      2388\n",
      "High        932\n",
      "Name: Area_dist_level, dtype: int64\n",
      "data : train    6818\n",
      "test     1705\n",
      "Name: data, dtype: int64\n"
     ]
    }
   ],
   "source": [
    "for cat in cf_all.select_dtypes('object').columns:\n",
    "    print(cat,':',cf_all[cat].value_counts())"
   ]
  },
  {
   "cell_type": "code",
   "execution_count": 26,
   "metadata": {},
   "outputs": [
    {
     "name": "stdout",
     "output_type": "stream",
     "text": [
      "Medicine_ID : 1557\n",
      "DistArea_ID : 10\n",
      "Medicine_Type : 16\n",
      "SidEffect_Level : 2\n",
      "Area_Type : 4\n",
      "Area_City_Type : 3\n",
      "Area_dist_level : 4\n",
      "data : 2\n"
     ]
    }
   ],
   "source": [
    "for cat in cf_all.select_dtypes('object').columns:\n",
    "    print(cat,':',cf_all[cat].nunique())"
   ]
  },
  {
   "cell_type": "code",
   "execution_count": 27,
   "metadata": {},
   "outputs": [],
   "source": [
    "k=cf_all['Medicine_Type'].value_counts()\n",
    "for val in k.axes[0][:10]:\n",
    "    varname='Medicine_Type_'+val.replace(',','_').replace(' ','_')\n",
    "    cf_all[varname]=np.where(cf_all['Medicine_Type']==val,1,0)\n",
    "    \n",
    "del cf_all['Medicine_Type']    "
   ]
  },
  {
   "cell_type": "code",
   "execution_count": 28,
   "metadata": {},
   "outputs": [],
   "source": [
    "import matplotlib.pyplot as plt"
   ]
  },
  {
   "cell_type": "code",
   "execution_count": 29,
   "metadata": {},
   "outputs": [
    {
     "data": {
      "text/plain": [
       "'C:\\\\Users\\\\HARITHA\\\\Downloads'"
      ]
     },
     "execution_count": 29,
     "metadata": {},
     "output_type": "execute_result"
    }
   ],
   "source": [
    "pwd"
   ]
  },
  {
   "cell_type": "code",
   "execution_count": 30,
   "metadata": {},
   "outputs": [],
   "source": [
    "for cat in ['DistArea_ID', 'SidEffect_Level','Area_Type', 'Area_City_Type', 'Area_dist_level']:\n",
    "    temp=pd.get_dummies(cf_all[cat],prefix=cat,drop_first=True)\n",
    "    cf_all=pd.concat([temp,cf_all],1)\n",
    "    cf_all.drop([cat],1,inplace=True)"
   ]
  },
  {
   "cell_type": "code",
   "execution_count": 31,
   "metadata": {},
   "outputs": [
    {
     "name": "stdout",
     "output_type": "stream",
     "text": [
      "<class 'pandas.core.frame.DataFrame'>\n",
      "Int64Index: 8523 entries, 0 to 1704\n",
      "Data columns (total 35 columns):\n",
      " #   Column                            Non-Null Count  Dtype  \n",
      "---  ------                            --------------  -----  \n",
      " 0   Area_dist_level_Medium            8523 non-null   uint8  \n",
      " 1   Area_dist_level_Small             8523 non-null   uint8  \n",
      " 2   Area_dist_level_Unknown           8523 non-null   uint8  \n",
      " 3   Area_City_Type_Tier 2             8523 non-null   uint8  \n",
      " 4   Area_City_Type_Tier 3             8523 non-null   uint8  \n",
      " 5   Area_Type_DownTown                8523 non-null   uint8  \n",
      " 6   Area_Type_Industrial              8523 non-null   uint8  \n",
      " 7   Area_Type_MidTownResidential      8523 non-null   uint8  \n",
      " 8   SidEffect_Level_mild              8523 non-null   uint8  \n",
      " 9   DistArea_ID_Area013               8523 non-null   uint8  \n",
      " 10  DistArea_ID_Area017               8523 non-null   uint8  \n",
      " 11  DistArea_ID_Area018               8523 non-null   uint8  \n",
      " 12  DistArea_ID_Area019               8523 non-null   uint8  \n",
      " 13  DistArea_ID_Area027               8523 non-null   uint8  \n",
      " 14  DistArea_ID_Area035               8523 non-null   uint8  \n",
      " 15  DistArea_ID_Area045               8523 non-null   uint8  \n",
      " 16  DistArea_ID_Area046               8523 non-null   uint8  \n",
      " 17  DistArea_ID_Area049               8523 non-null   uint8  \n",
      " 18  Medicine_ID                       8523 non-null   object \n",
      " 19  Counterfeit_Weight                7060 non-null   float64\n",
      " 20  Active_Since                      8523 non-null   int64  \n",
      " 21  Medicine_MRP                      8523 non-null   float64\n",
      " 22  Availability_rating               8523 non-null   float64\n",
      " 23  Counterfeit_Sales                 6818 non-null   float64\n",
      " 24  data                              8523 non-null   object \n",
      " 25  Medicine_Type_Antibiotics         8523 non-null   int32  \n",
      " 26  Medicine_Type_Hreplacements       8523 non-null   int32  \n",
      " 27  Medicine_Type_Antiseptics         8523 non-null   int32  \n",
      " 28  Medicine_Type_OralContraceptives  8523 non-null   int32  \n",
      " 29  Medicine_Type_Antipyretics        8523 non-null   int32  \n",
      " 30  Medicine_Type_Cardiac             8523 non-null   int32  \n",
      " 31  Medicine_Type_Mstablizers         8523 non-null   int32  \n",
      " 32  Medicine_Type_Tranquilizers       8523 non-null   int32  \n",
      " 33  Medicine_Type_Analgesics          8523 non-null   int32  \n",
      " 34  Medicine_Type_Antimalarial        8523 non-null   int32  \n",
      "dtypes: float64(4), int32(10), int64(1), object(2), uint8(18)\n",
      "memory usage: 1015.4+ KB\n"
     ]
    }
   ],
   "source": [
    "cf_all.info()"
   ]
  },
  {
   "cell_type": "code",
   "execution_count": 32,
   "metadata": {},
   "outputs": [
    {
     "data": {
      "text/plain": [
       "Area_dist_level_Medium                 0\n",
       "Area_dist_level_Small                  0\n",
       "Area_dist_level_Unknown                0\n",
       "Area_City_Type_Tier 2                  0\n",
       "Area_City_Type_Tier 3                  0\n",
       "Area_Type_DownTown                     0\n",
       "Area_Type_Industrial                   0\n",
       "Area_Type_MidTownResidential           0\n",
       "SidEffect_Level_mild                   0\n",
       "DistArea_ID_Area013                    0\n",
       "DistArea_ID_Area017                    0\n",
       "DistArea_ID_Area018                    0\n",
       "DistArea_ID_Area019                    0\n",
       "DistArea_ID_Area027                    0\n",
       "DistArea_ID_Area035                    0\n",
       "DistArea_ID_Area045                    0\n",
       "DistArea_ID_Area046                    0\n",
       "DistArea_ID_Area049                    0\n",
       "Medicine_ID                            0\n",
       "Counterfeit_Weight                  1463\n",
       "Active_Since                           0\n",
       "Medicine_MRP                           0\n",
       "Availability_rating                    0\n",
       "Counterfeit_Sales                   1705\n",
       "data                                   0\n",
       "Medicine_Type_Antibiotics              0\n",
       "Medicine_Type_Hreplacements            0\n",
       "Medicine_Type_Antiseptics              0\n",
       "Medicine_Type_OralContraceptives       0\n",
       "Medicine_Type_Antipyretics             0\n",
       "Medicine_Type_Cardiac                  0\n",
       "Medicine_Type_Mstablizers              0\n",
       "Medicine_Type_Tranquilizers            0\n",
       "Medicine_Type_Analgesics               0\n",
       "Medicine_Type_Antimalarial             0\n",
       "dtype: int64"
      ]
     },
     "execution_count": 32,
     "metadata": {},
     "output_type": "execute_result"
    }
   ],
   "source": [
    "cf_all.isnull().sum()"
   ]
  },
  {
   "cell_type": "code",
   "execution_count": 33,
   "metadata": {},
   "outputs": [
    {
     "data": {
      "text/plain": [
       "1463"
      ]
     },
     "execution_count": 33,
     "metadata": {},
     "output_type": "execute_result"
    }
   ],
   "source": [
    "cf_all['Counterfeit_Weight'].isnull().sum()"
   ]
  },
  {
   "cell_type": "markdown",
   "metadata": {},
   "source": [
    "#Imputing missing values"
   ]
  },
  {
   "cell_type": "code",
   "execution_count": 34,
   "metadata": {},
   "outputs": [],
   "source": [
    "# cf_all['Counterfeit_Weight'].fillna(cf_all['Counterfeit_Weight'].mean(),inplace=True) OR\n",
    "cf_all.loc[cf_all['Counterfeit_Weight'].isnull(),'Counterfeit_Weight']=np.mean(cf_all['Counterfeit_Weight'])"
   ]
  },
  {
   "cell_type": "code",
   "execution_count": 35,
   "metadata": {},
   "outputs": [
    {
     "data": {
      "text/plain": [
       "Area_dist_level_Medium                 0\n",
       "Area_dist_level_Small                  0\n",
       "Area_dist_level_Unknown                0\n",
       "Area_City_Type_Tier 2                  0\n",
       "Area_City_Type_Tier 3                  0\n",
       "Area_Type_DownTown                     0\n",
       "Area_Type_Industrial                   0\n",
       "Area_Type_MidTownResidential           0\n",
       "SidEffect_Level_mild                   0\n",
       "DistArea_ID_Area013                    0\n",
       "DistArea_ID_Area017                    0\n",
       "DistArea_ID_Area018                    0\n",
       "DistArea_ID_Area019                    0\n",
       "DistArea_ID_Area027                    0\n",
       "DistArea_ID_Area035                    0\n",
       "DistArea_ID_Area045                    0\n",
       "DistArea_ID_Area046                    0\n",
       "DistArea_ID_Area049                    0\n",
       "Medicine_ID                            0\n",
       "Counterfeit_Weight                     0\n",
       "Active_Since                           0\n",
       "Medicine_MRP                           0\n",
       "Availability_rating                    0\n",
       "Counterfeit_Sales                   1705\n",
       "data                                   0\n",
       "Medicine_Type_Antibiotics              0\n",
       "Medicine_Type_Hreplacements            0\n",
       "Medicine_Type_Antiseptics              0\n",
       "Medicine_Type_OralContraceptives       0\n",
       "Medicine_Type_Antipyretics             0\n",
       "Medicine_Type_Cardiac                  0\n",
       "Medicine_Type_Mstablizers              0\n",
       "Medicine_Type_Tranquilizers            0\n",
       "Medicine_Type_Analgesics               0\n",
       "Medicine_Type_Antimalarial             0\n",
       "dtype: int64"
      ]
     },
     "execution_count": 35,
     "metadata": {},
     "output_type": "execute_result"
    }
   ],
   "source": [
    "cf_all.isnull().sum()"
   ]
  },
  {
   "cell_type": "code",
   "execution_count": 36,
   "metadata": {},
   "outputs": [
    {
     "data": {
      "text/plain": [
       "(8523, 35)"
      ]
     },
     "execution_count": 36,
     "metadata": {},
     "output_type": "execute_result"
    }
   ],
   "source": [
    "cf_all.shape"
   ]
  },
  {
   "cell_type": "code",
   "execution_count": 37,
   "metadata": {},
   "outputs": [
    {
     "data": {
      "text/plain": [
       "Area_dist_level_Medium              2.203391e-01\n",
       "Area_dist_level_Small               2.017042e-01\n",
       "Area_dist_level_Unknown             2.028324e-01\n",
       "Area_City_Type_Tier 2               2.200147e-01\n",
       "Area_City_Type_Tier 3               2.385906e-01\n",
       "Area_Type_DownTown                  2.262035e-01\n",
       "Area_Type_Industrial                9.703798e-02\n",
       "Area_Type_MidTownResidential        1.109347e-01\n",
       "SidEffect_Level_mild                2.283274e-01\n",
       "DistArea_ID_Area013                 9.740492e-02\n",
       "DistArea_ID_Area017                 9.685434e-02\n",
       "DistArea_ID_Area018                 9.703798e-02\n",
       "DistArea_ID_Area019                 5.811903e-02\n",
       "DistArea_ID_Area027                 9.767983e-02\n",
       "DistArea_ID_Area035                 9.722150e-02\n",
       "DistArea_ID_Area045                 9.712975e-02\n",
       "DistArea_ID_Area046                 9.722150e-02\n",
       "DistArea_ID_Area049                 9.722150e-02\n",
       "Counterfeit_Weight                  1.786012e+01\n",
       "Active_Since                        7.008637e+01\n",
       "Medicine_MRP                        3.878184e+03\n",
       "Availability_rating                 2.662335e-03\n",
       "Counterfeit_Sales                   2.867449e+06\n",
       "Medicine_Type_Antibiotics           1.236698e-01\n",
       "Medicine_Type_Hreplacements         1.209863e-01\n",
       "Medicine_Type_Antiseptics           9.538129e-02\n",
       "Medicine_Type_OralContraceptives    9.035771e-02\n",
       "Medicine_Type_Antipyretics          7.362441e-02\n",
       "Medicine_Type_Cardiac               7.035680e-02\n",
       "Medicine_Type_Mstablizers           7.025732e-02\n",
       "Medicine_Type_Tranquilizers         5.729571e-02\n",
       "Medicine_Type_Analgesics            4.949141e-02\n",
       "Medicine_Type_Antimalarial          4.738411e-02\n",
       "dtype: float64"
      ]
     },
     "execution_count": 37,
     "metadata": {},
     "output_type": "execute_result"
    }
   ],
   "source": [
    "cf_all.var()"
   ]
  },
  {
   "cell_type": "code",
   "execution_count": 38,
   "metadata": {},
   "outputs": [],
   "source": [
    "cf_all.drop(['Availability_rating'],1,inplace=True)"
   ]
  },
  {
   "cell_type": "code",
   "execution_count": 39,
   "metadata": {},
   "outputs": [
    {
     "name": "stdout",
     "output_type": "stream",
     "text": [
      "<class 'pandas.core.frame.DataFrame'>\n",
      "Int64Index: 8523 entries, 0 to 1704\n",
      "Data columns (total 34 columns):\n",
      " #   Column                            Non-Null Count  Dtype  \n",
      "---  ------                            --------------  -----  \n",
      " 0   Area_dist_level_Medium            8523 non-null   uint8  \n",
      " 1   Area_dist_level_Small             8523 non-null   uint8  \n",
      " 2   Area_dist_level_Unknown           8523 non-null   uint8  \n",
      " 3   Area_City_Type_Tier 2             8523 non-null   uint8  \n",
      " 4   Area_City_Type_Tier 3             8523 non-null   uint8  \n",
      " 5   Area_Type_DownTown                8523 non-null   uint8  \n",
      " 6   Area_Type_Industrial              8523 non-null   uint8  \n",
      " 7   Area_Type_MidTownResidential      8523 non-null   uint8  \n",
      " 8   SidEffect_Level_mild              8523 non-null   uint8  \n",
      " 9   DistArea_ID_Area013               8523 non-null   uint8  \n",
      " 10  DistArea_ID_Area017               8523 non-null   uint8  \n",
      " 11  DistArea_ID_Area018               8523 non-null   uint8  \n",
      " 12  DistArea_ID_Area019               8523 non-null   uint8  \n",
      " 13  DistArea_ID_Area027               8523 non-null   uint8  \n",
      " 14  DistArea_ID_Area035               8523 non-null   uint8  \n",
      " 15  DistArea_ID_Area045               8523 non-null   uint8  \n",
      " 16  DistArea_ID_Area046               8523 non-null   uint8  \n",
      " 17  DistArea_ID_Area049               8523 non-null   uint8  \n",
      " 18  Medicine_ID                       8523 non-null   object \n",
      " 19  Counterfeit_Weight                8523 non-null   float64\n",
      " 20  Active_Since                      8523 non-null   int64  \n",
      " 21  Medicine_MRP                      8523 non-null   float64\n",
      " 22  Counterfeit_Sales                 6818 non-null   float64\n",
      " 23  data                              8523 non-null   object \n",
      " 24  Medicine_Type_Antibiotics         8523 non-null   int32  \n",
      " 25  Medicine_Type_Hreplacements       8523 non-null   int32  \n",
      " 26  Medicine_Type_Antiseptics         8523 non-null   int32  \n",
      " 27  Medicine_Type_OralContraceptives  8523 non-null   int32  \n",
      " 28  Medicine_Type_Antipyretics        8523 non-null   int32  \n",
      " 29  Medicine_Type_Cardiac             8523 non-null   int32  \n",
      " 30  Medicine_Type_Mstablizers         8523 non-null   int32  \n",
      " 31  Medicine_Type_Tranquilizers       8523 non-null   int32  \n",
      " 32  Medicine_Type_Analgesics          8523 non-null   int32  \n",
      " 33  Medicine_Type_Antimalarial        8523 non-null   int32  \n",
      "dtypes: float64(3), int32(10), int64(1), object(2), uint8(18)\n",
      "memory usage: 948.8+ KB\n"
     ]
    }
   ],
   "source": [
    "cf_all.info()"
   ]
  },
  {
   "cell_type": "code",
   "execution_count": 45,
   "metadata": {},
   "outputs": [],
   "source": [
    "import seaborn as sns\n",
    "%matplotlib inline"
   ]
  },
  {
   "cell_type": "code",
   "execution_count": 46,
   "metadata": {},
   "outputs": [
    {
     "data": {
      "text/plain": [
       "<matplotlib.axes._subplots.AxesSubplot at 0x213d1ee46d0>"
      ]
     },
     "execution_count": 46,
     "metadata": {},
     "output_type": "execute_result"
    },
    {
     "data": {
      "image/png": "[encoded data removed]",
      "text/plain": [
       "<Figure size 432x288 with 1 Axes>"
      ]
     },
     "metadata": {
      "needs_background": "light"
     },
     "output_type": "display_data"
    }
   ],
   "source": [
    "sns.boxplot(cf_all['Medicine_MRP'])"
   ]
  },
  {
   "cell_type": "code",
   "execution_count": 101,
   "metadata": {},
   "outputs": [
    {
     "data": {
      "text/plain": [
       "<matplotlib.axes._subplots.AxesSubplot at 0x213d2b4c250>"
      ]
     },
     "execution_count": 101,
     "metadata": {},
     "output_type": "execute_result"
    },
    {
     "data": {
      "image/png": "[encoded data removed]",
      "text/plain": [
       "<Figure size 432x288 with 1 Axes>"
      ]
     },
     "metadata": {
      "needs_background": "light"
     },
     "output_type": "display_data"
    }
   ],
   "source": [
    "#Checking outliers \n",
    "sns.boxplot(cf_all['Counterfeit_Sales'])"
   ]
  },
  {
   "cell_type": "markdown",
   "metadata": {},
   "source": [
    "# Separating train and test data"
   ]
  },
  {
   "cell_type": "code",
   "execution_count": 40,
   "metadata": {},
   "outputs": [],
   "source": [
    "train_clean=cf_all[cf_all['data']=='train']\n",
    "del train_clean['data']\n",
    "test_clean=cf_all[cf_all['data']=='test']\n",
    "test_clean.drop(['data','Counterfeit_Sales'],1,inplace=True)"
   ]
  },
  {
   "cell_type": "code",
   "execution_count": 103,
   "metadata": {},
   "outputs": [
    {
     "data": {
      "text/plain": [
       "((6818, 33), (1705, 32))"
      ]
     },
     "execution_count": 103,
     "metadata": {},
     "output_type": "execute_result"
    }
   ],
   "source": [
    "train_clean.shape,test_clean.shape"
   ]
  },
  {
   "cell_type": "code",
   "execution_count": 42,
   "metadata": {},
   "outputs": [
    {
     "name": "stdout",
     "output_type": "stream",
     "text": [
      "<class 'pandas.core.frame.DataFrame'>\n",
      "Int64Index: 6818 entries, 0 to 6817\n",
      "Data columns (total 33 columns):\n",
      " #   Column                            Non-Null Count  Dtype  \n",
      "---  ------                            --------------  -----  \n",
      " 0   Area_dist_level_Medium            6818 non-null   uint8  \n",
      " 1   Area_dist_level_Small             6818 non-null   uint8  \n",
      " 2   Area_dist_level_Unknown           6818 non-null   uint8  \n",
      " 3   Area_City_Type_Tier 2             6818 non-null   uint8  \n",
      " 4   Area_City_Type_Tier 3             6818 non-null   uint8  \n",
      " 5   Area_Type_DownTown                6818 non-null   uint8  \n",
      " 6   Area_Type_Industrial              6818 non-null   uint8  \n",
      " 7   Area_Type_MidTownResidential      6818 non-null   uint8  \n",
      " 8   SidEffect_Level_mild              6818 non-null   uint8  \n",
      " 9   DistArea_ID_Area013               6818 non-null   uint8  \n",
      " 10  DistArea_ID_Area017               6818 non-null   uint8  \n",
      " 11  DistArea_ID_Area018               6818 non-null   uint8  \n",
      " 12  DistArea_ID_Area019               6818 non-null   uint8  \n",
      " 13  DistArea_ID_Area027               6818 non-null   uint8  \n",
      " 14  DistArea_ID_Area035               6818 non-null   uint8  \n",
      " 15  DistArea_ID_Area045               6818 non-null   uint8  \n",
      " 16  DistArea_ID_Area046               6818 non-null   uint8  \n",
      " 17  DistArea_ID_Area049               6818 non-null   uint8  \n",
      " 18  Medicine_ID                       6818 non-null   object \n",
      " 19  Counterfeit_Weight                6818 non-null   float64\n",
      " 20  Active_Since                      6818 non-null   int64  \n",
      " 21  Medicine_MRP                      6818 non-null   float64\n",
      " 22  Counterfeit_Sales                 6818 non-null   float64\n",
      " 23  Medicine_Type_Antibiotics         6818 non-null   int32  \n",
      " 24  Medicine_Type_Hreplacements       6818 non-null   int32  \n",
      " 25  Medicine_Type_Antiseptics         6818 non-null   int32  \n",
      " 26  Medicine_Type_OralContraceptives  6818 non-null   int32  \n",
      " 27  Medicine_Type_Antipyretics        6818 non-null   int32  \n",
      " 28  Medicine_Type_Cardiac             6818 non-null   int32  \n",
      " 29  Medicine_Type_Mstablizers         6818 non-null   int32  \n",
      " 30  Medicine_Type_Tranquilizers       6818 non-null   int32  \n",
      " 31  Medicine_Type_Analgesics          6818 non-null   int32  \n",
      " 32  Medicine_Type_Antimalarial        6818 non-null   int32  \n",
      "dtypes: float64(3), int32(10), int64(1), object(1), uint8(18)\n",
      "memory usage: 705.8+ KB\n",
      "<class 'pandas.core.frame.DataFrame'>\n",
      "Int64Index: 1705 entries, 0 to 1704\n",
      "Data columns (total 32 columns):\n",
      " #   Column                            Non-Null Count  Dtype  \n",
      "---  ------                            --------------  -----  \n",
      " 0   Area_dist_level_Medium            1705 non-null   uint8  \n",
      " 1   Area_dist_level_Small             1705 non-null   uint8  \n",
      " 2   Area_dist_level_Unknown           1705 non-null   uint8  \n",
      " 3   Area_City_Type_Tier 2             1705 non-null   uint8  \n",
      " 4   Area_City_Type_Tier 3             1705 non-null   uint8  \n",
      " 5   Area_Type_DownTown                1705 non-null   uint8  \n",
      " 6   Area_Type_Industrial              1705 non-null   uint8  \n",
      " 7   Area_Type_MidTownResidential      1705 non-null   uint8  \n",
      " 8   SidEffect_Level_mild              1705 non-null   uint8  \n",
      " 9   DistArea_ID_Area013               1705 non-null   uint8  \n",
      " 10  DistArea_ID_Area017               1705 non-null   uint8  \n",
      " 11  DistArea_ID_Area018               1705 non-null   uint8  \n",
      " 12  DistArea_ID_Area019               1705 non-null   uint8  \n",
      " 13  DistArea_ID_Area027               1705 non-null   uint8  \n",
      " 14  DistArea_ID_Area035               1705 non-null   uint8  \n",
      " 15  DistArea_ID_Area045               1705 non-null   uint8  \n",
      " 16  DistArea_ID_Area046               1705 non-null   uint8  \n",
      " 17  DistArea_ID_Area049               1705 non-null   uint8  \n",
      " 18  Medicine_ID                       1705 non-null   object \n",
      " 19  Counterfeit_Weight                1705 non-null   float64\n",
      " 20  Active_Since                      1705 non-null   int64  \n",
      " 21  Medicine_MRP                      1705 non-null   float64\n",
      " 22  Medicine_Type_Antibiotics         1705 non-null   int32  \n",
      " 23  Medicine_Type_Hreplacements       1705 non-null   int32  \n",
      " 24  Medicine_Type_Antiseptics         1705 non-null   int32  \n",
      " 25  Medicine_Type_OralContraceptives  1705 non-null   int32  \n",
      " 26  Medicine_Type_Antipyretics        1705 non-null   int32  \n",
      " 27  Medicine_Type_Cardiac             1705 non-null   int32  \n",
      " 28  Medicine_Type_Mstablizers         1705 non-null   int32  \n",
      " 29  Medicine_Type_Tranquilizers       1705 non-null   int32  \n",
      " 30  Medicine_Type_Analgesics          1705 non-null   int32  \n",
      " 31  Medicine_Type_Antimalarial        1705 non-null   int32  \n",
      "dtypes: float64(2), int32(10), int64(1), object(1), uint8(18)\n",
      "memory usage: 163.2+ KB\n"
     ]
    },
    {
     "data": {
      "text/plain": [
       "(None, None)"
      ]
     },
     "execution_count": 42,
     "metadata": {},
     "output_type": "execute_result"
    }
   ],
   "source": [
    "train_clean.info(),test_clean.info()"
   ]
  },
  {
   "cell_type": "code",
   "execution_count": 49,
   "metadata": {},
   "outputs": [
    {
     "data": {
      "text/plain": [
       "((6818, 31), (6818,))"
      ]
     },
     "execution_count": 49,
     "metadata": {},
     "output_type": "execute_result"
    }
   ],
   "source": [
    "x=train_clean.drop(['Counterfeit_Sales','Medicine_ID'],1)\n",
    "y=train_clean['Counterfeit_Sales']\n",
    "x.shape,y.shape"
   ]
  },
  {
   "cell_type": "code",
   "execution_count": 51,
   "metadata": {},
   "outputs": [],
   "source": [
    "x_train,x_val,y_train,y_val=train_test_split(x,y,test_size=0.2,random_state=123)"
   ]
  },
  {
   "cell_type": "code",
   "execution_count": 52,
   "metadata": {},
   "outputs": [],
   "source": [
    "from sklearn.linear_model import LinearRegression"
   ]
  },
  {
   "cell_type": "code",
   "execution_count": 54,
   "metadata": {},
   "outputs": [],
   "source": [
    "lr=LinearRegression(fit_intercept=True)"
   ]
  },
  {
   "cell_type": "code",
   "execution_count": 55,
   "metadata": {},
   "outputs": [
    {
     "data": {
      "text/plain": [
       "{'copy_X': True, 'fit_intercept': True, 'n_jobs': None, 'normalize': False}"
      ]
     },
     "execution_count": 55,
     "metadata": {},
     "output_type": "execute_result"
    }
   ],
   "source": [
    "lr.get_params()"
   ]
  },
  {
   "cell_type": "code",
   "execution_count": 56,
   "metadata": {},
   "outputs": [
    {
     "data": {
      "text/plain": [
       "LinearRegression()"
      ]
     },
     "execution_count": 56,
     "metadata": {},
     "output_type": "execute_result"
    }
   ],
   "source": [
    "lr.fit(x_train,y_train)"
   ]
  },
  {
   "cell_type": "code",
   "execution_count": 57,
   "metadata": {},
   "outputs": [],
   "source": [
    "pred=lr.predict(x_val)"
   ]
  },
  {
   "cell_type": "code",
   "execution_count": 58,
   "metadata": {},
   "outputs": [
    {
     "data": {
      "text/plain": [
       "((1364,), (1364,))"
      ]
     },
     "execution_count": 58,
     "metadata": {},
     "output_type": "execute_result"
    }
   ],
   "source": [
    "pred.shape,y_val.shape"
   ]
  },
  {
   "cell_type": "code",
   "execution_count": 61,
   "metadata": {},
   "outputs": [
    {
     "data": {
      "text/plain": [
       "2889    1190.450076\n",
       "2542      48.675391\n",
       "4565     784.399776\n",
       "5942   -1164.368413\n",
       "5938    1245.213941\n",
       "           ...     \n",
       "2769     158.886476\n",
       "1818     191.451855\n",
       "409     -443.696293\n",
       "6738    2097.143828\n",
       "5784       1.760310\n",
       "Name: Counterfeit_Sales, Length: 1364, dtype: float64"
      ]
     },
     "execution_count": 61,
     "metadata": {},
     "output_type": "execute_result"
    }
   ],
   "source": [
    "error=y_val-pred\n",
    "error"
   ]
  },
  {
   "cell_type": "code",
   "execution_count": 63,
   "metadata": {},
   "outputs": [],
   "source": [
    "from sklearn.metrics import mean_absolute_error\n",
    "MAE=mean_absolute_error(y_val,pred)"
   ]
  },
  {
   "cell_type": "code",
   "execution_count": 64,
   "metadata": {},
   "outputs": [
    {
     "data": {
      "text/plain": [
       "845.6387274085955"
      ]
     },
     "execution_count": 64,
     "metadata": {},
     "output_type": "execute_result"
    }
   ],
   "source": [
    "MAE"
   ]
  },
  {
   "cell_type": "code",
   "execution_count": 65,
   "metadata": {},
   "outputs": [],
   "source": [
    "score=1-(MAE/1660)"
   ]
  },
  {
   "cell_type": "code",
   "execution_count": 66,
   "metadata": {},
   "outputs": [
    {
     "data": {
      "text/plain": [
       "0.49057907987434"
      ]
     },
     "execution_count": 66,
     "metadata": {},
     "output_type": "execute_result"
    }
   ],
   "source": [
    "score #Linear Regression "
   ]
  },
  {
   "cell_type": "markdown",
   "metadata": {},
   "source": [
    "# Decision Tree"
   ]
  },
  {
   "cell_type": "code",
   "execution_count": 68,
   "metadata": {},
   "outputs": [],
   "source": [
    "from sklearn.model_selection import RandomizedSearchCV"
   ]
  },
  {
   "cell_type": "code",
   "execution_count": 69,
   "metadata": {},
   "outputs": [],
   "source": [
    "from sklearn.tree import DecisionTreeRegressor"
   ]
  },
  {
   "cell_type": "code",
   "execution_count": 75,
   "metadata": {},
   "outputs": [],
   "source": [
    "params={\n",
    "    'criterion':['mse',None],\n",
    "    'max_depth':[None,5,10,15,20,30,40,50,70],\n",
    "    'min_samples_leaf':[1,2,5,10,15,20],\n",
    "    'min_samples_split':[2,5,10,15,20,25]\n",
    "}"
   ]
  },
  {
   "cell_type": "code",
   "execution_count": 76,
   "metadata": {},
   "outputs": [
    {
     "data": {
      "text/plain": [
       "6480"
      ]
     },
     "execution_count": 76,
     "metadata": {},
     "output_type": "execute_result"
    }
   ],
   "source": [
    "2*9*6*6*10 #No. of iteration "
   ]
  },
  {
   "cell_type": "code",
   "execution_count": 77,
   "metadata": {},
   "outputs": [],
   "source": [
    "clf=DecisionTreeRegressor()"
   ]
  },
  {
   "cell_type": "code",
   "execution_count": 78,
   "metadata": {},
   "outputs": [],
   "source": [
    "random_search=RandomizedSearchCV(clf,param_distributions=params,cv=10,n_jobs=-1,n_iter=100,verbose=20)"
   ]
  },
  {
   "cell_type": "code",
   "execution_count": 79,
   "metadata": {},
   "outputs": [
    {
     "name": "stdout",
     "output_type": "stream",
     "text": [
      "Fitting 10 folds for each of 100 candidates, totalling 1000 fits\n"
     ]
    },
    {
     "name": "stderr",
     "output_type": "stream",
     "text": [
      "[Parallel(n_jobs=-1)]: Using backend LokyBackend with 4 concurrent workers.\n",
      "[Parallel(n_jobs=-1)]: Done   1 tasks      | elapsed:    3.7s\n",
      "[Parallel(n_jobs=-1)]: Done   2 tasks      | elapsed:    3.7s\n",
      "[Parallel(n_jobs=-1)]: Done   3 tasks      | elapsed:    3.7s\n",
      "[Parallel(n_jobs=-1)]: Done   4 tasks      | elapsed:    3.8s\n",
      "[Parallel(n_jobs=-1)]: Done   5 tasks      | elapsed:    3.8s\n",
      "[Parallel(n_jobs=-1)]: Done   6 tasks      | elapsed:    3.8s\n",
      "[Parallel(n_jobs=-1)]: Done   7 tasks      | elapsed:    3.8s\n",
      "[Parallel(n_jobs=-1)]: Done   8 tasks      | elapsed:    3.8s\n",
      "[Parallel(n_jobs=-1)]: Done   9 tasks      | elapsed:    3.8s\n",
      "[Parallel(n_jobs=-1)]: Done  10 tasks      | elapsed:    3.9s\n",
      "[Parallel(n_jobs=-1)]: Done  11 tasks      | elapsed:    4.0s\n",
      "[Parallel(n_jobs=-1)]: Done  12 tasks      | elapsed:    4.0s\n",
      "[Parallel(n_jobs=-1)]: Done  13 tasks      | elapsed:    4.0s\n",
      "[Parallel(n_jobs=-1)]: Done  14 tasks      | elapsed:    4.0s\n",
      "[Parallel(n_jobs=-1)]: Done  15 tasks      | elapsed:    4.1s\n",
      "[Parallel(n_jobs=-1)]: Done  16 tasks      | elapsed:    4.1s\n",
      "[Parallel(n_jobs=-1)]: Done  17 tasks      | elapsed:    4.1s\n",
      "[Parallel(n_jobs=-1)]: Done  18 tasks      | elapsed:    4.1s\n",
      "[Parallel(n_jobs=-1)]: Done  19 tasks      | elapsed:    4.1s\n",
      "[Parallel(n_jobs=-1)]: Done  20 tasks      | elapsed:    4.1s\n",
      "[Parallel(n_jobs=-1)]: Done  21 tasks      | elapsed:    4.2s\n",
      "[Parallel(n_jobs=-1)]: Done  22 tasks      | elapsed:    4.2s\n",
      "[Parallel(n_jobs=-1)]: Done  23 tasks      | elapsed:    4.2s\n",
      "[Parallel(n_jobs=-1)]: Done  24 tasks      | elapsed:    4.2s\n",
      "[Parallel(n_jobs=-1)]: Done  25 tasks      | elapsed:    4.2s\n",
      "[Parallel(n_jobs=-1)]: Done  26 tasks      | elapsed:    4.2s\n",
      "[Parallel(n_jobs=-1)]: Done  27 tasks      | elapsed:    4.2s\n",
      "[Parallel(n_jobs=-1)]: Batch computation too fast (0.1815s.) Setting batch_size=2.\n",
      "[Parallel(n_jobs=-1)]: Done  28 tasks      | elapsed:    4.2s\n",
      "[Parallel(n_jobs=-1)]: Done  29 tasks      | elapsed:    4.2s\n",
      "[Parallel(n_jobs=-1)]: Done  30 tasks      | elapsed:    4.3s\n",
      "[Parallel(n_jobs=-1)]: Done  31 tasks      | elapsed:    4.3s\n",
      "[Parallel(n_jobs=-1)]: Done  32 tasks      | elapsed:    4.3s\n",
      "[Parallel(n_jobs=-1)]: Done  33 tasks      | elapsed:    4.3s\n",
      "[Parallel(n_jobs=-1)]: Done  34 tasks      | elapsed:    4.4s\n",
      "[Parallel(n_jobs=-1)]: Done  35 tasks      | elapsed:    4.4s\n",
      "[Parallel(n_jobs=-1)]: Done  36 tasks      | elapsed:    4.4s\n",
      "[Parallel(n_jobs=-1)]: Done  38 tasks      | elapsed:    4.5s\n",
      "[Parallel(n_jobs=-1)]: Done  40 tasks      | elapsed:    4.5s\n",
      "[Parallel(n_jobs=-1)]: Done  42 tasks      | elapsed:    4.5s\n",
      "[Parallel(n_jobs=-1)]: Done  44 tasks      | elapsed:    4.5s\n",
      "[Parallel(n_jobs=-1)]: Done  46 tasks      | elapsed:    4.6s\n",
      "[Parallel(n_jobs=-1)]: Done  48 tasks      | elapsed:    4.7s\n",
      "[Parallel(n_jobs=-1)]: Done  50 tasks      | elapsed:    4.7s\n",
      "[Parallel(n_jobs=-1)]: Done  52 tasks      | elapsed:    4.7s\n",
      "[Parallel(n_jobs=-1)]: Done  54 tasks      | elapsed:    4.8s\n",
      "[Parallel(n_jobs=-1)]: Done  56 tasks      | elapsed:    4.8s\n",
      "[Parallel(n_jobs=-1)]: Done  58 tasks      | elapsed:    4.8s\n",
      "[Parallel(n_jobs=-1)]: Done  60 tasks      | elapsed:    4.8s\n",
      "[Parallel(n_jobs=-1)]: Done  62 tasks      | elapsed:    4.8s\n",
      "[Parallel(n_jobs=-1)]: Done  64 tasks      | elapsed:    4.8s\n",
      "[Parallel(n_jobs=-1)]: Done  66 tasks      | elapsed:    4.9s\n",
      "[Parallel(n_jobs=-1)]: Done  68 tasks      | elapsed:    4.9s\n",
      "[Parallel(n_jobs=-1)]: Done  70 tasks      | elapsed:    4.9s\n",
      "[Parallel(n_jobs=-1)]: Done  72 tasks      | elapsed:    4.9s\n",
      "[Parallel(n_jobs=-1)]: Batch computation too fast (0.1764s.) Setting batch_size=4.\n",
      "[Parallel(n_jobs=-1)]: Done  74 tasks      | elapsed:    4.9s\n",
      "[Parallel(n_jobs=-1)]: Done  76 tasks      | elapsed:    4.9s\n",
      "[Parallel(n_jobs=-1)]: Done  78 tasks      | elapsed:    4.9s\n",
      "[Parallel(n_jobs=-1)]: Done  80 tasks      | elapsed:    4.9s\n",
      "[Parallel(n_jobs=-1)]: Done  82 tasks      | elapsed:    4.9s\n",
      "[Parallel(n_jobs=-1)]: Done  84 tasks      | elapsed:    5.0s\n",
      "[Parallel(n_jobs=-1)]: Done  86 tasks      | elapsed:    5.0s\n",
      "[Parallel(n_jobs=-1)]: Done  88 tasks      | elapsed:    5.0s\n",
      "[Parallel(n_jobs=-1)]: Done  90 tasks      | elapsed:    5.0s\n",
      "[Parallel(n_jobs=-1)]: Done  94 tasks      | elapsed:    5.1s\n",
      "[Parallel(n_jobs=-1)]: Batch computation too fast (0.1179s.) Setting batch_size=8.\n",
      "[Parallel(n_jobs=-1)]: Done  98 tasks      | elapsed:    5.1s\n",
      "[Parallel(n_jobs=-1)]: Done 100 tasks      | elapsed:    5.2s\n",
      "[Parallel(n_jobs=-1)]: Done 104 tasks      | elapsed:    5.3s\n",
      "[Parallel(n_jobs=-1)]: Done 108 tasks      | elapsed:    5.3s\n",
      "[Parallel(n_jobs=-1)]: Done 112 tasks      | elapsed:    5.3s\n",
      "[Parallel(n_jobs=-1)]: Done 116 tasks      | elapsed:    5.4s\n",
      "[Parallel(n_jobs=-1)]: Done 124 tasks      | elapsed:    5.4s\n",
      "[Parallel(n_jobs=-1)]: Done 128 tasks      | elapsed:    5.5s\n",
      "[Parallel(n_jobs=-1)]: Done 136 tasks      | elapsed:    5.5s\n",
      "[Parallel(n_jobs=-1)]: Done 144 tasks      | elapsed:    5.6s\n",
      "[Parallel(n_jobs=-1)]: Done 152 tasks      | elapsed:    5.7s\n",
      "[Parallel(n_jobs=-1)]: Done 160 tasks      | elapsed:    5.7s\n",
      "[Parallel(n_jobs=-1)]: Done 164 tasks      | elapsed:    5.7s\n",
      "[Parallel(n_jobs=-1)]: Done 172 tasks      | elapsed:    5.8s\n",
      "[Parallel(n_jobs=-1)]: Done 180 tasks      | elapsed:    5.8s\n",
      "[Parallel(n_jobs=-1)]: Done 188 tasks      | elapsed:    5.9s\n",
      "[Parallel(n_jobs=-1)]: Done 196 tasks      | elapsed:    5.9s\n",
      "[Parallel(n_jobs=-1)]: Done 204 tasks      | elapsed:    6.0s\n",
      "[Parallel(n_jobs=-1)]: Done 212 tasks      | elapsed:    6.1s\n",
      "[Parallel(n_jobs=-1)]: Done 220 tasks      | elapsed:    6.4s\n",
      "[Parallel(n_jobs=-1)]: Done 228 tasks      | elapsed:    6.5s\n",
      "[Parallel(n_jobs=-1)]: Done 236 tasks      | elapsed:    6.5s\n",
      "[Parallel(n_jobs=-1)]: Done 244 tasks      | elapsed:    6.5s\n",
      "[Parallel(n_jobs=-1)]: Done 252 tasks      | elapsed:    6.6s\n",
      "[Parallel(n_jobs=-1)]: Done 260 tasks      | elapsed:    6.7s\n",
      "[Parallel(n_jobs=-1)]: Done 268 tasks      | elapsed:    7.0s\n",
      "[Parallel(n_jobs=-1)]: Done 276 tasks      | elapsed:    7.1s\n",
      "[Parallel(n_jobs=-1)]: Done 284 tasks      | elapsed:    7.1s\n",
      "[Parallel(n_jobs=-1)]: Done 292 tasks      | elapsed:    7.2s\n",
      "[Parallel(n_jobs=-1)]: Done 300 tasks      | elapsed:    7.2s\n",
      "[Parallel(n_jobs=-1)]: Done 308 tasks      | elapsed:    7.2s\n",
      "[Parallel(n_jobs=-1)]: Done 316 tasks      | elapsed:    7.6s\n",
      "[Parallel(n_jobs=-1)]: Done 324 tasks      | elapsed:    7.7s\n",
      "[Parallel(n_jobs=-1)]: Done 332 tasks      | elapsed:    7.8s\n",
      "[Parallel(n_jobs=-1)]: Done 340 tasks      | elapsed:    7.9s\n",
      "[Parallel(n_jobs=-1)]: Done 348 tasks      | elapsed:    8.0s\n",
      "[Parallel(n_jobs=-1)]: Done 356 tasks      | elapsed:    8.1s\n",
      "[Parallel(n_jobs=-1)]: Done 364 tasks      | elapsed:    8.1s\n",
      "[Parallel(n_jobs=-1)]: Done 372 tasks      | elapsed:    8.2s\n",
      "[Parallel(n_jobs=-1)]: Done 380 tasks      | elapsed:    8.3s\n",
      "[Parallel(n_jobs=-1)]: Done 388 tasks      | elapsed:    8.5s\n",
      "[Parallel(n_jobs=-1)]: Done 396 tasks      | elapsed:    8.5s\n",
      "[Parallel(n_jobs=-1)]: Done 404 tasks      | elapsed:    8.6s\n",
      "[Parallel(n_jobs=-1)]: Done 412 tasks      | elapsed:    8.6s\n",
      "[Parallel(n_jobs=-1)]: Done 420 tasks      | elapsed:    8.7s\n",
      "[Parallel(n_jobs=-1)]: Done 428 tasks      | elapsed:    9.0s\n",
      "[Parallel(n_jobs=-1)]: Done 436 tasks      | elapsed:    9.1s\n",
      "[Parallel(n_jobs=-1)]: Done 444 tasks      | elapsed:    9.1s\n",
      "[Parallel(n_jobs=-1)]: Done 452 tasks      | elapsed:    9.2s\n",
      "[Parallel(n_jobs=-1)]: Done 460 tasks      | elapsed:    9.2s\n",
      "[Parallel(n_jobs=-1)]: Done 468 tasks      | elapsed:    9.2s\n",
      "[Parallel(n_jobs=-1)]: Done 476 tasks      | elapsed:    9.2s\n",
      "[Parallel(n_jobs=-1)]: Done 484 tasks      | elapsed:    9.3s\n",
      "[Parallel(n_jobs=-1)]: Done 492 tasks      | elapsed:    9.4s\n",
      "[Parallel(n_jobs=-1)]: Done 500 tasks      | elapsed:    9.5s\n",
      "[Parallel(n_jobs=-1)]: Done 508 tasks      | elapsed:    9.6s\n",
      "[Parallel(n_jobs=-1)]: Done 516 tasks      | elapsed:    9.6s\n",
      "[Parallel(n_jobs=-1)]: Done 524 tasks      | elapsed:    9.8s\n",
      "[Parallel(n_jobs=-1)]: Done 532 tasks      | elapsed:    9.8s\n",
      "[Parallel(n_jobs=-1)]: Done 540 tasks      | elapsed:    9.8s\n",
      "[Parallel(n_jobs=-1)]: Done 548 tasks      | elapsed:   10.2s\n",
      "[Parallel(n_jobs=-1)]: Done 556 tasks      | elapsed:   10.4s\n",
      "[Parallel(n_jobs=-1)]: Done 564 tasks      | elapsed:   10.4s\n",
      "[Parallel(n_jobs=-1)]: Done 572 tasks      | elapsed:   10.4s\n"
     ]
    },
    {
     "name": "stderr",
     "output_type": "stream",
     "text": [
      "[Parallel(n_jobs=-1)]: Done 580 tasks      | elapsed:   10.9s\n",
      "[Parallel(n_jobs=-1)]: Done 588 tasks      | elapsed:   11.0s\n",
      "[Parallel(n_jobs=-1)]: Done 596 tasks      | elapsed:   11.0s\n",
      "[Parallel(n_jobs=-1)]: Done 604 tasks      | elapsed:   11.1s\n",
      "[Parallel(n_jobs=-1)]: Done 612 tasks      | elapsed:   11.2s\n",
      "[Parallel(n_jobs=-1)]: Done 620 tasks      | elapsed:   11.5s\n",
      "[Parallel(n_jobs=-1)]: Done 628 tasks      | elapsed:   11.6s\n",
      "[Parallel(n_jobs=-1)]: Done 636 tasks      | elapsed:   11.8s\n",
      "[Parallel(n_jobs=-1)]: Done 644 tasks      | elapsed:   11.8s\n",
      "[Parallel(n_jobs=-1)]: Done 652 tasks      | elapsed:   12.3s\n",
      "[Parallel(n_jobs=-1)]: Done 660 tasks      | elapsed:   12.4s\n",
      "[Parallel(n_jobs=-1)]: Done 668 tasks      | elapsed:   12.6s\n",
      "[Parallel(n_jobs=-1)]: Done 676 tasks      | elapsed:   12.6s\n",
      "[Parallel(n_jobs=-1)]: Done 684 tasks      | elapsed:   12.7s\n",
      "[Parallel(n_jobs=-1)]: Done 692 tasks      | elapsed:   12.7s\n",
      "[Parallel(n_jobs=-1)]: Done 700 tasks      | elapsed:   12.8s\n",
      "[Parallel(n_jobs=-1)]: Done 708 tasks      | elapsed:   13.3s\n",
      "[Parallel(n_jobs=-1)]: Done 716 tasks      | elapsed:   13.3s\n",
      "[Parallel(n_jobs=-1)]: Done 724 tasks      | elapsed:   13.3s\n",
      "[Parallel(n_jobs=-1)]: Done 732 tasks      | elapsed:   13.3s\n",
      "[Parallel(n_jobs=-1)]: Done 740 tasks      | elapsed:   13.7s\n",
      "[Parallel(n_jobs=-1)]: Done 748 tasks      | elapsed:   13.7s\n",
      "[Parallel(n_jobs=-1)]: Done 756 tasks      | elapsed:   13.8s\n",
      "[Parallel(n_jobs=-1)]: Done 764 tasks      | elapsed:   13.8s\n",
      "[Parallel(n_jobs=-1)]: Done 772 tasks      | elapsed:   13.9s\n",
      "[Parallel(n_jobs=-1)]: Done 780 tasks      | elapsed:   13.9s\n",
      "[Parallel(n_jobs=-1)]: Done 788 tasks      | elapsed:   14.0s\n",
      "[Parallel(n_jobs=-1)]: Done 796 tasks      | elapsed:   14.3s\n",
      "[Parallel(n_jobs=-1)]: Done 804 tasks      | elapsed:   14.4s\n",
      "[Parallel(n_jobs=-1)]: Done 812 tasks      | elapsed:   14.4s\n",
      "[Parallel(n_jobs=-1)]: Done 820 tasks      | elapsed:   14.4s\n",
      "[Parallel(n_jobs=-1)]: Done 828 tasks      | elapsed:   14.4s\n",
      "[Parallel(n_jobs=-1)]: Done 836 tasks      | elapsed:   14.5s\n",
      "[Parallel(n_jobs=-1)]: Done 844 tasks      | elapsed:   14.6s\n",
      "[Parallel(n_jobs=-1)]: Done 852 tasks      | elapsed:   14.6s\n",
      "[Parallel(n_jobs=-1)]: Done 860 tasks      | elapsed:   14.8s\n",
      "[Parallel(n_jobs=-1)]: Done 868 tasks      | elapsed:   15.0s\n",
      "[Parallel(n_jobs=-1)]: Done 876 tasks      | elapsed:   15.0s\n",
      "[Parallel(n_jobs=-1)]: Done 884 tasks      | elapsed:   15.1s\n",
      "[Parallel(n_jobs=-1)]: Done 892 tasks      | elapsed:   15.2s\n",
      "[Parallel(n_jobs=-1)]: Done 900 tasks      | elapsed:   15.4s\n",
      "[Parallel(n_jobs=-1)]: Done 908 tasks      | elapsed:   15.4s\n",
      "[Parallel(n_jobs=-1)]: Done 916 tasks      | elapsed:   15.7s\n",
      "[Parallel(n_jobs=-1)]: Done 924 tasks      | elapsed:   15.8s\n",
      "[Parallel(n_jobs=-1)]: Done 932 tasks      | elapsed:   15.8s\n",
      "[Parallel(n_jobs=-1)]: Done 940 tasks      | elapsed:   16.0s\n",
      "[Parallel(n_jobs=-1)]: Done 948 tasks      | elapsed:   16.0s\n",
      "[Parallel(n_jobs=-1)]: Done 956 tasks      | elapsed:   16.1s\n",
      "[Parallel(n_jobs=-1)]: Done 964 tasks      | elapsed:   16.3s\n",
      "[Parallel(n_jobs=-1)]: Done 965 tasks      | elapsed:   16.3s\n",
      "[Parallel(n_jobs=-1)]: Done 973 tasks      | elapsed:   16.3s\n",
      "[Parallel(n_jobs=-1)]: Done 974 tasks      | elapsed:   16.3s\n",
      "[Parallel(n_jobs=-1)]: Done 975 tasks      | elapsed:   16.3s\n",
      "[Parallel(n_jobs=-1)]: Done 976 tasks      | elapsed:   16.3s\n",
      "[Parallel(n_jobs=-1)]: Done 977 tasks      | elapsed:   16.3s\n",
      "[Parallel(n_jobs=-1)]: Done 978 tasks      | elapsed:   16.4s\n",
      "[Parallel(n_jobs=-1)]: Done 979 tasks      | elapsed:   16.4s\n",
      "[Parallel(n_jobs=-1)]: Done 1000 out of 1000 | elapsed:   16.7s finished\n"
     ]
    },
    {
     "data": {
      "text/plain": [
       "RandomizedSearchCV(cv=10, estimator=DecisionTreeRegressor(), n_iter=100,\n",
       "                   n_jobs=-1,\n",
       "                   param_distributions={'criterion': ['mse', None],\n",
       "                                        'max_depth': [None, 5, 10, 15, 20, 30,\n",
       "                                                      40, 50, 70],\n",
       "                                        'min_samples_leaf': [1, 2, 5, 10, 15,\n",
       "                                                             20],\n",
       "                                        'min_samples_split': [2, 5, 10, 15, 20,\n",
       "                                                              25]},\n",
       "                   verbose=20)"
      ]
     },
     "execution_count": 79,
     "metadata": {},
     "output_type": "execute_result"
    }
   ],
   "source": [
    "random_search.fit(x_train,y_train)"
   ]
  },
  {
   "cell_type": "code",
   "execution_count": 80,
   "metadata": {},
   "outputs": [
    {
     "data": {
      "text/plain": [
       "{'ccp_alpha': 0.0,\n",
       " 'criterion': 'mse',\n",
       " 'max_depth': None,\n",
       " 'max_features': None,\n",
       " 'max_leaf_nodes': None,\n",
       " 'min_impurity_decrease': 0.0,\n",
       " 'min_impurity_split': None,\n",
       " 'min_samples_leaf': 1,\n",
       " 'min_samples_split': 2,\n",
       " 'min_weight_fraction_leaf': 0.0,\n",
       " 'presort': 'deprecated',\n",
       " 'random_state': None,\n",
       " 'splitter': 'best'}"
      ]
     },
     "execution_count": 80,
     "metadata": {},
     "output_type": "execute_result"
    }
   ],
   "source": [
    "clf.get_params()"
   ]
  },
  {
   "cell_type": "code",
   "execution_count": 81,
   "metadata": {},
   "outputs": [],
   "source": [
    "def report(results, n_top=3):\n",
    "    for i in range(1,n_top+1):\n",
    "        candidates = np.flatnonzero(results['rank_test_score']== i)\n",
    "        \n",
    "        for candidate in candidates:\n",
    "            print('Model with rank: {0}'.format(i))\n",
    "            print('Mean Validation Score: {0:.8f} (std:{1:.3f})'.format(\n",
    "                    results['mean_test_score'][candidate],\n",
    "                    results['std_test_score'][candidate]))\n",
    "            print(\"Parameters:{0}\".format(results['params'][candidate]))\n",
    "            print(\"\")"
   ]
  },
  {
   "cell_type": "code",
   "execution_count": 82,
   "metadata": {},
   "outputs": [
    {
     "name": "stdout",
     "output_type": "stream",
     "text": [
      "Model with rank: 1\n",
      "Mean Validation Score: 0.59424350 (std:0.026)\n",
      "Parameters:{'min_samples_split': 10, 'min_samples_leaf': 5, 'max_depth': 5, 'criterion': 'mse'}\n",
      "\n",
      "Model with rank: 2\n",
      "Mean Validation Score: 0.59423644 (std:0.026)\n",
      "Parameters:{'min_samples_split': 20, 'min_samples_leaf': 5, 'max_depth': 5, 'criterion': 'mse'}\n",
      "\n",
      "Model with rank: 3\n",
      "Mean Validation Score: 0.59307934 (std:0.026)\n",
      "Parameters:{'min_samples_split': 2, 'min_samples_leaf': 2, 'max_depth': 5, 'criterion': 'mse'}\n",
      "\n",
      "Model with rank: 4\n",
      "Mean Validation Score: 0.59305987 (std:0.026)\n",
      "Parameters:{'min_samples_split': 10, 'min_samples_leaf': 2, 'max_depth': 5, 'criterion': 'mse'}\n",
      "\n",
      "Model with rank: 5\n",
      "Mean Validation Score: 0.57033042 (std:0.022)\n",
      "Parameters:{'min_samples_split': 20, 'min_samples_leaf': 20, 'max_depth': 10, 'criterion': 'mse'}\n",
      "\n"
     ]
    }
   ],
   "source": [
    "report(random_search.cv_results_,5)"
   ]
  },
  {
   "cell_type": "code",
   "execution_count": 83,
   "metadata": {},
   "outputs": [
    {
     "data": {
      "text/plain": [
       "DecisionTreeRegressor(max_depth=5, min_samples_leaf=5, min_samples_split=10)"
      ]
     },
     "execution_count": 83,
     "metadata": {},
     "output_type": "execute_result"
    }
   ],
   "source": [
    "random_search.best_estimator_"
   ]
  },
  {
   "cell_type": "code",
   "execution_count": 85,
   "metadata": {},
   "outputs": [],
   "source": [
    "dt=random_search.best_estimator_"
   ]
  },
  {
   "cell_type": "code",
   "execution_count": 86,
   "metadata": {},
   "outputs": [
    {
     "data": {
      "text/plain": [
       "DecisionTreeRegressor(max_depth=5, min_samples_leaf=5, min_samples_split=10)"
      ]
     },
     "execution_count": 86,
     "metadata": {},
     "output_type": "execute_result"
    }
   ],
   "source": [
    "dt.fit(x_train,y_train)"
   ]
  },
  {
   "cell_type": "code",
   "execution_count": 87,
   "metadata": {},
   "outputs": [],
   "source": [
    "pred=dt.predict(x_val)"
   ]
  },
  {
   "cell_type": "code",
   "execution_count": 88,
   "metadata": {},
   "outputs": [
    {
     "data": {
      "text/plain": [
       "((1364,), (1364,))"
      ]
     },
     "execution_count": 88,
     "metadata": {},
     "output_type": "execute_result"
    }
   ],
   "source": [
    "pred.shape,y_val.shape"
   ]
  },
  {
   "cell_type": "code",
   "execution_count": 89,
   "metadata": {},
   "outputs": [
    {
     "data": {
      "text/plain": [
       "765.423510038305"
      ]
     },
     "execution_count": 89,
     "metadata": {},
     "output_type": "execute_result"
    }
   ],
   "source": [
    "MAE=mean_absolute_error(y_val,pred)\n",
    "MAE"
   ]
  },
  {
   "cell_type": "code",
   "execution_count": 90,
   "metadata": {},
   "outputs": [
    {
     "data": {
      "text/plain": [
       "0.5389014999769246"
      ]
     },
     "execution_count": 90,
     "metadata": {},
     "output_type": "execute_result"
    }
   ],
   "source": [
    "score=1-(MAE/1660)\n",
    "score # DecisionTree with Randomsearch"
   ]
  },
  {
   "cell_type": "code",
   "execution_count": 91,
   "metadata": {},
   "outputs": [
    {
     "data": {
      "text/plain": [
       "((1705, 32), (5454, 31))"
      ]
     },
     "execution_count": 91,
     "metadata": {},
     "output_type": "execute_result"
    }
   ],
   "source": [
    "test_clean.shape,x_train.shape"
   ]
  },
  {
   "cell_type": "code",
   "execution_count": 92,
   "metadata": {},
   "outputs": [],
   "source": [
    "x_test=test_clean.drop(['Medicine_ID'],1)"
   ]
  },
  {
   "cell_type": "code",
   "execution_count": 94,
   "metadata": {},
   "outputs": [
    {
     "data": {
      "text/plain": [
       "((1705, 31), (1364, 31))"
      ]
     },
     "execution_count": 94,
     "metadata": {},
     "output_type": "execute_result"
    }
   ],
   "source": [
    "x_test.shape,x_val.shape"
   ]
  },
  {
   "cell_type": "code",
   "execution_count": 95,
   "metadata": {},
   "outputs": [],
   "source": [
    "final_pred=dt.predict(x_test)"
   ]
  },
  {
   "cell_type": "code",
   "execution_count": 96,
   "metadata": {},
   "outputs": [
    {
     "data": {
      "text/plain": [
       "(1705,)"
      ]
     },
     "execution_count": 96,
     "metadata": {},
     "output_type": "execute_result"
    }
   ],
   "source": [
    "final_pred.shape"
   ]
  },
  {
   "cell_type": "code",
   "execution_count": 97,
   "metadata": {},
   "outputs": [],
   "source": [
    "Submission=pd.DataFrame(list(zip(test_clean['Medicine_ID'],list(final_pred))),columns=['Medicine_ID','Counterfeit_Sales'])"
   ]
  },
  {
   "cell_type": "code",
   "execution_count": 98,
   "metadata": {},
   "outputs": [
    {
     "data": {
      "text/html": [
       "<div>\n",
       "<style scoped>\n",
       "    .dataframe tbody tr th:only-of-type {\n",
       "        vertical-align: middle;\n",
       "    }\n",
       "\n",
       "    .dataframe tbody tr th {\n",
       "        vertical-align: top;\n",
       "    }\n",
       "\n",
       "    .dataframe thead th {\n",
       "        text-align: right;\n",
       "    }\n",
       "</style>\n",
       "<table border=\"1\" class=\"dataframe\">\n",
       "  <thead>\n",
       "    <tr style=\"text-align: right;\">\n",
       "      <th></th>\n",
       "      <th>Medicine_ID</th>\n",
       "      <th>Counterfeit_Sales</th>\n",
       "    </tr>\n",
       "  </thead>\n",
       "  <tbody>\n",
       "    <tr>\n",
       "      <th>0</th>\n",
       "      <td>HLZ81</td>\n",
       "      <td>1960.734353</td>\n",
       "    </tr>\n",
       "    <tr>\n",
       "      <th>1</th>\n",
       "      <td>ECE94</td>\n",
       "      <td>4030.213146</td>\n",
       "    </tr>\n",
       "    <tr>\n",
       "      <th>2</th>\n",
       "      <td>SAD14</td>\n",
       "      <td>1575.408237</td>\n",
       "    </tr>\n",
       "    <tr>\n",
       "      <th>3</th>\n",
       "      <td>EQV63</td>\n",
       "      <td>273.109048</td>\n",
       "    </tr>\n",
       "    <tr>\n",
       "      <th>4</th>\n",
       "      <td>AIR10</td>\n",
       "      <td>358.111404</td>\n",
       "    </tr>\n",
       "  </tbody>\n",
       "</table>\n",
       "</div>"
      ],
      "text/plain": [
       "  Medicine_ID  Counterfeit_Sales\n",
       "0       HLZ81        1960.734353\n",
       "1       ECE94        4030.213146\n",
       "2       SAD14        1575.408237\n",
       "3       EQV63         273.109048\n",
       "4       AIR10         358.111404"
      ]
     },
     "execution_count": 98,
     "metadata": {},
     "output_type": "execute_result"
    }
   ],
   "source": [
    "Submission.head()"
   ]
  },
  {
   "cell_type": "code",
   "execution_count": 99,
   "metadata": {},
   "outputs": [
    {
     "name": "stdout",
     "output_type": "stream",
     "text": [
      "<class 'pandas.core.frame.DataFrame'>\n",
      "RangeIndex: 1705 entries, 0 to 1704\n",
      "Data columns (total 2 columns):\n",
      " #   Column             Non-Null Count  Dtype  \n",
      "---  ------             --------------  -----  \n",
      " 0   Medicine_ID        1705 non-null   object \n",
      " 1   Counterfeit_Sales  1705 non-null   float64\n",
      "dtypes: float64(1), object(1)\n",
      "memory usage: 26.8+ KB\n"
     ]
    }
   ],
   "source": [
    "Submission.info()"
   ]
  },
  {
   "cell_type": "code",
   "execution_count": 100,
   "metadata": {},
   "outputs": [],
   "source": [
    "Submission.to_csv('sample_submission.csv',index=False)"
   ]
  },
  {
   "cell_type": "code",
   "execution_count": null,
   "metadata": {},
   "outputs": [],
   "source": []
  },
  {
   "cell_type": "code",
   "execution_count": null,
   "metadata": {},
   "outputs": [],
   "source": []
  }
 ],
 "metadata": {
  "kernelspec": {
   "display_name": "Python 3",
   "language": "python",
   "name": "python3"
  },
  "language_info": {
   "codemirror_mode": {
    "name": "ipython",
    "version": 3
   },
   "file_extension": ".py",
   "mimetype": "text/x-python",
   "name": "python",
   "nbconvert_exporter": "python",
   "pygments_lexer": "ipython3",
   "version": "3.8.3"
  }
 },
 "nbformat": 4,
 "nbformat_minor": 4
}
